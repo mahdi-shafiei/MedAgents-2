{
 "cells": [
  {
   "cell_type": "code",
   "execution_count": 2,
   "metadata": {},
   "outputs": [],
   "source": [
    "import json\n",
    "from prettytable import PrettyTable"
   ]
  },
  {
   "cell_type": "code",
   "execution_count": 1,
   "metadata": {},
   "outputs": [],
   "source": [
    "# Read the jsonl file and convert it to a JSON list\n",
    "def jsonl_to_json_list(jsonl_file_path):\n",
    "    json_list = []\n",
    "    with open(jsonl_file_path, 'r', encoding='utf-8') as file:\n",
    "        for line in file:\n",
    "            json_obj = json.loads(line.strip())  # Parse each line as JSON\n",
    "            json_list.append(json_obj)\n",
    "    \n",
    "    return json_list\n",
    "\n",
    "# Save the JSON list to a file\n",
    "def save_as_json(json_list, output_file_path):\n",
    "    with open(output_file_path, 'w', encoding='utf-8') as outfile:\n",
    "        json.dump(json_list, outfile, indent=4)\n",
    "\n",
    "# Example usage:\n",
    "json_list = jsonl_to_json_list('./data/medqa.jsonl')\n",
    "save_as_json(json_list, './data/medqa.json')\n"
   ]
  },
  {
   "cell_type": "code",
   "execution_count": 7,
   "metadata": {},
   "outputs": [
    {
     "name": "stdout",
     "output_type": "stream",
     "text": [
      "+-------------+-----------------+------------+----------+--------------+\n",
      "|    Model    |       Task      | Difficulty | Accuracy | Total Number |\n",
      "+-------------+-----------------+------------+----------+--------------+\n",
      "| gpt-4o-mini |    sampled_50   |  adaptive  |   80.0   |      50      |\n",
      "| gpt-4o-mini | sampled_50_hard |  adaptive  |   36.0   |      50      |\n",
      "|    gpt-4o   |    sampled_50   |  adaptive  |   84.0   |      50      |\n",
      "|    gpt-4o   | sampled_50_hard |  adaptive  |   68.0   |      50      |\n",
      "+-------------+-----------------+------------+----------+--------------+\n"
     ]
    }
   ],
   "source": [
    "def load_json(file_path):\n",
    "    with open(file_path, 'r', encoding='utf-8') as file:\n",
    "        data = json.load(file)\n",
    "    return data\n",
    "\n",
    "def deduplicate_data(data):\n",
    "    seen = set()\n",
    "    deduplicated_data = []\n",
    "    for item in data:\n",
    "        idx = item['idx']\n",
    "        if idx not in seen:\n",
    "            deduplicated_data.append(item)\n",
    "            seen.add(idx)\n",
    "    return deduplicated_data\n",
    "\n",
    "def calculate_accuracy(data):\n",
    "    correct_predictions = 0\n",
    "    total_predictions = len(data)\n",
    "    for item in data:\n",
    "        if item['label'] == item['prediction']:\n",
    "            correct_predictions += 1\n",
    "    accuracy = correct_predictions / total_predictions if total_predictions > 0 else 0\n",
    "    return accuracy\n",
    "\n",
    "models = ['gpt-4o-mini', 'gpt-4o']\n",
    "tasks = ['sampled_50', 'sampled_50_hard', 'sampled_50_5options']\n",
    "difficulties = ['adaptive']\n",
    "\n",
    "table = PrettyTable()\n",
    "table.field_names = [\"Model\", \"Task\", \"Difficulty\", \"Accuracy\", \"Total Number\"]\n",
    "\n",
    "for model in models:\n",
    "    for task in tasks:\n",
    "        for difficulty in difficulties:\n",
    "            file_path = f'./output/{model}_medqa_{task}_{difficulty}.json'\n",
    "            data = load_json(file_path)\n",
    "            deduplicated_data = deduplicate_data(data)\n",
    "            accuracy = calculate_accuracy(deduplicated_data)\n",
    "            table.add_row([model, task, difficulty, accuracy * 100, len(deduplicated_data)])\n",
    "\n",
    "print(table)"
   ]
  }
 ],
 "metadata": {
  "kernelspec": {
   "display_name": "meerkat",
   "language": "python",
   "name": "python3"
  },
  "language_info": {
   "codemirror_mode": {
    "name": "ipython",
    "version": 3
   },
   "file_extension": ".py",
   "mimetype": "text/x-python",
   "name": "python",
   "nbconvert_exporter": "python",
   "pygments_lexer": "ipython3",
   "version": "3.10.15"
  }
 },
 "nbformat": 4,
 "nbformat_minor": 2
}

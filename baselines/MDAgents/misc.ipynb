{
 "cells": [
  {
   "cell_type": "code",
   "execution_count": null,
   "metadata": {},
   "outputs": [],
   "source": [
    "import json"
   ]
  },
  {
   "cell_type": "code",
   "execution_count": 1,
   "metadata": {},
   "outputs": [],
   "source": [
    "import json\n",
    "\n",
    "# Read the jsonl file and convert it to a JSON list\n",
    "def jsonl_to_json_list(jsonl_file_path):\n",
    "    json_list = []\n",
    "    with open(jsonl_file_path, 'r', encoding='utf-8') as file:\n",
    "        for line in file:\n",
    "            json_obj = json.loads(line.strip())  # Parse each line as JSON\n",
    "            json_list.append(json_obj)\n",
    "    \n",
    "    return json_list\n",
    "\n",
    "# Save the JSON list to a file\n",
    "def save_as_json(json_list, output_file_path):\n",
    "    with open(output_file_path, 'w', encoding='utf-8') as outfile:\n",
    "        json.dump(json_list, outfile, indent=4)\n",
    "\n",
    "# Example usage:\n",
    "json_list = jsonl_to_json_list('/data/jiwoong/workspace/MDAgents/data/medqa.jsonl')\n",
    "save_as_json(json_list, '/data/jiwoong/workspace/MDAgents/data/medqa.json')\n"
   ]
  }
 ],
 "metadata": {
  "kernelspec": {
   "display_name": "meerkat",
   "language": "python",
   "name": "python3"
  },
  "language_info": {
   "codemirror_mode": {
    "name": "ipython",
    "version": 3
   },
   "file_extension": ".py",
   "mimetype": "text/x-python",
   "name": "python",
   "nbconvert_exporter": "python",
   "pygments_lexer": "ipython3",
   "version": "3.9.19"
  }
 },
 "nbformat": 4,
 "nbformat_minor": 2
}

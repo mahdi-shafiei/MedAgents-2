{
 "cells": [
  {
   "cell_type": "code",
   "execution_count": null,
   "metadata": {},
   "outputs": [],
   "source": [
    "\n",
    "/raid/jiwoong/data1/jiwoong/data/jiwoong/workspace/MedAgents-2/data/medbullets/medbullets_op5_text_only_easy.json\n",
    "/raid/jiwoong/data1/jiwoong/data/jiwoong/workspace/MedAgents-2/data/medbullets/medbullets_op5_text_only_hard.json\n",
    "/raid/jiwoong/data1/jiwoong/data/jiwoong/workspace/MedAgents-2/data/medbullets/medbullets_op5_text_only.json"
   ]
  },
  {
   "cell_type": "code",
   "execution_count": 6,
   "metadata": {},
   "outputs": [],
   "source": [
    "import json\n",
    "\n",
    "\n",
    "# Read the JSON file\n",
    "with open('/raid/jiwoong/data1/jiwoong/data/jiwoong/workspace/MedAgents-2/data/medbullets/medbullets_op5_text_only.json', \"r\") as infile:\n",
    "    data = json.load(infile)  # Assumes the JSON file contains an array of objects\n",
    "\n",
    "# Write to the JSONL file\n",
    "with open('/raid/jiwoong/data1/jiwoong/data/jiwoong/workspace/MedAgents-2/data/medbullets/medbullets_op5_text_only.jsonl', \"w\", encoding=\"utf-8\") as outfile:\n",
    "    for record in data:\n",
    "        json_line = json.dumps(record)  # Convert the object to a JSON string\n",
    "        outfile.write(json_line + \"\\n\")  # Write the JSON string to the file, one per line"
   ]
  }
 ],
 "metadata": {
  "kernelspec": {
   "display_name": "meerkat",
   "language": "python",
   "name": "python3"
  },
  "language_info": {
   "codemirror_mode": {
    "name": "ipython",
    "version": 3
   },
   "file_extension": ".py",
   "mimetype": "text/x-python",
   "name": "python",
   "nbconvert_exporter": "python",
   "pygments_lexer": "ipython3",
   "version": "3.10.16"
  }
 },
 "nbformat": 4,
 "nbformat_minor": 2
}

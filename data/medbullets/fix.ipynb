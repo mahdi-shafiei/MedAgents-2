{
 "cells": [
  {
   "cell_type": "code",
   "execution_count": 2,
   "metadata": {},
   "outputs": [],
   "source": [
    "\n",
    "import json\n",
    "from prettytable import PrettyTable\n",
    "import json\n",
    "import os\n",
    "import random\n",
    "import pandas as pd\n",
    "import glob\n",
    "import numpy as np\n",
    "\n",
    "def load_jsonl(jsonl_file_path):\n",
    "    with open(jsonl_file_path, 'r', encoding='utf-8') as file:\n",
    "        return [json.loads(line.strip()) for line in file]\n",
    "\n",
    "def save_as_json(json_list, output_file_path):\n",
    "    with open(output_file_path, 'w', encoding='utf-8') as outfile:\n",
    "        json.dump(json_list, outfile, indent=4)\n",
    "\n",
    "def save_as_jsonl(json_list, output_file_path):\n",
    "    with open(output_file_path, 'w', encoding='utf-8') as outfile:\n",
    "        for json_obj in json_list:\n",
    "            json.dump(json_obj, outfile)\n",
    "            outfile.write('\\n')"
   ]
  },
  {
   "cell_type": "code",
   "execution_count": null,
   "metadata": {},
   "outputs": [],
   "source": [
    "medbullets_test_set = load_jsonl('test.jsonl')\n",
    "medbullets_test_set = pd.DataFrame(medbullets_test_set)\n",
    "medbullets_test_set.dropna()\n",
    "medbullets_test_set.index = medbullets_test_set['realidx']\n",
    "medbullets_test_set = medbullets_test_set[~medbullets_test_set.index.duplicated(keep='first')]\n",
    "medbullets_test_set = medbullets_test_set[['realidx', 'question', 'answer', 'options', 'answer_idx', 'reason']]\n",
    "save_as_jsonl(medbullets_test_set.to_dict(orient='records'), 'test.jsonl')"
   ]
  },
  {
   "cell_type": "code",
   "execution_count": null,
   "metadata": {},
   "outputs": [],
   "source": [
    "import glob\n",
    "\n"
   ]
  }
 ],
 "metadata": {
  "kernelspec": {
   "display_name": "Python 3",
   "language": "python",
   "name": "python3"
  },
  "language_info": {
   "codemirror_mode": {
    "name": "ipython",
    "version": 3
   },
   "file_extension": ".py",
   "mimetype": "text/x-python",
   "name": "python",
   "nbconvert_exporter": "python",
   "pygments_lexer": "ipython3",
   "version": "3.12.3"
  }
 },
 "nbformat": 4,
 "nbformat_minor": 2
}

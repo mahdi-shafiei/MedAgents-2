{
 "cells": [
  {
   "cell_type": "code",
   "execution_count": 3,
   "metadata": {},
   "outputs": [
    {
     "ename": "",
     "evalue": "",
     "output_type": "error",
     "traceback": [
      "\u001b[1;31mFailed to start the Kernel 'Python 3.8.10'. \n",
      "\u001b[1;31mView Jupyter <a href='command:jupyter.viewOutput'>log</a> for further details. spawn ENOMEM"
     ]
    }
   ],
   "source": [
    "import json\n",
    "\n",
    "with open('../output/medqa/gpt-4o-mini-medqa-test-debate_v12.json', 'r') as f:\n",
    "    data = json.load(f)\n",
    "\n",
    "correct = 0\n",
    "total = len(data)\n",
    "\n",
    "for item in data:\n",
    "    if item['answer_idx'] == item['answers'][0]:\n",
    "        correct += 1\n",
    "\n",
    "print(f'Accuracy: {correct / total * 100}%')\n"
   ]
  }
 ],
 "metadata": {
  "kernelspec": {
   "display_name": "base",
   "language": "python",
   "name": "python3"
  },
  "language_info": {
   "codemirror_mode": {
    "name": "ipython",
    "version": 3
   },
   "file_extension": ".py",
   "mimetype": "text/x-python",
   "name": "python",
   "nbconvert_exporter": "python",
   "pygments_lexer": "ipython3",
   "version": "3.12.8"
  }
 },
 "nbformat": 4,
 "nbformat_minor": 2
}

{
 "cells": [
  {
   "cell_type": "code",
   "execution_count": 3,
   "metadata": {},
   "outputs": [
    {
     "name": "stdout",
     "output_type": "stream",
     "text": [
      "Accuracy: 49.668874172185426%\n"
     ]
    }
   ],
   "source": [
    "import json\n",
    "\n",
    "with open('medqa/gpt-4o-mini-medqa-test-debate_v12.json', 'r') as f:\n",
    "    data = json.load(f)\n",
    "\n",
    "correct = 0\n",
    "total = len(data)\n",
    "\n",
    "for item in data:\n",
    "    if item['answer_idx'] == item['answers'][0]:\n",
    "        correct += 1\n",
    "\n",
    "print(f'Accuracy: {correct / total * 100}%')\n"
   ]
  }
 ],
 "metadata": {
  "kernelspec": {
   "display_name": "base",
   "language": "python",
   "name": "python3"
  },
  "language_info": {
   "codemirror_mode": {
    "name": "ipython",
    "version": 3
   },
   "file_extension": ".py",
   "mimetype": "text/x-python",
   "name": "python",
   "nbconvert_exporter": "python",
   "pygments_lexer": "ipython3",
   "version": "3.12.8"
  }
 },
 "nbformat": 4,
 "nbformat_minor": 2
}

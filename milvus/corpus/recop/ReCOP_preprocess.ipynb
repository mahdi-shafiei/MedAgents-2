{
 "cells": [
  {
   "cell_type": "code",
   "execution_count": 7,
   "metadata": {},
   "outputs": [],
   "source": [
    "from datasets import load_dataset\n",
    "from tqdm.auto import tqdm\n",
    "import json\n",
    "import torch\n",
    "from transformers import AutoTokenizer, AutoModel\n"
   ]
  },
  {
   "cell_type": "code",
   "execution_count": 8,
   "metadata": {},
   "outputs": [],
   "source": [
    "ds = load_dataset(\"guan-wang/ReCOP\")"
   ]
  },
  {
   "cell_type": "code",
   "execution_count": 116,
   "metadata": {},
   "outputs": [],
   "source": [
    "from langchain_text_splitters import RecursiveCharacterTextSplitter\n",
    "\n",
    "text_splitter = RecursiveCharacterTextSplitter(\n",
    "    separators=[\n",
    "        \"\\n\\n\",\n",
    "        \"\\n\",\n",
    "        \". \",\n",
    "        \" \",\n",
    "        \"\"\n",
    "    ],\n",
    "    chunk_size=512,\n",
    "    chunk_overlap=128,\n",
    "    length_function=len,\n",
    "    is_separator_regex=False,\n",
    ")"
   ]
  },
  {
   "cell_type": "code",
   "execution_count": 117,
   "metadata": {},
   "outputs": [
    {
     "data": {
      "text/plain": [
       "['Overview of 47, XXY (Klinefelter Syndrome). SummaryKlinefelter Syndrome (47, XXY) is a chromosomal variation in males in which one extra X chromosome is present, resulting in a 47,XXY karyotype. The extra X chromosome typically affects physical, neurodevelopmental, behavioral, and neurocognitive functioning',\n",
       " '. The extra X chromosome typically affects physical, neurodevelopmental, behavioral, and neurocognitive functioning. Common physical features may include tall stature, reduced muscle tone, small testes (hypogonadism), delayed pubertal development and lack of secondary male sex characteristics such as decreased facial and body hair. Increased breast growth (gynecomastia) may occur later in puberty without appropriate biological care',\n",
       " '. Increased breast growth (gynecomastia) may occur later in puberty without appropriate biological care. With proper treatment, the incidence of gynecomastia typically occurs in less than 10% of boys with 47,XXY (KS).There is great variability to the neurodevelopmental profile or phenotype in boys with 47,XXY (KS). Common cognitive and behavioral features may include speech and language delays, ADHD and emotional and social functioning challenges',\n",
       " '. The features of 47, XXY (KS) are typically associated with decreased testosterone level and elevated gonadotropin levels. Early hormonal treatment (EHT) with three monthly injections of 25 mg. of testosterone enanthate, typically given between 4-12 months of age, may optimize brain development and neurodevelopmental outcomes. Testosterone should be administered based upon an evaluation with a pediatrician and pediatric endocrinologist familiar with 47,XXY (KS).']"
      ]
     },
     "execution_count": 117,
     "metadata": {},
     "output_type": "execute_result"
    }
   ],
   "source": [
    "text_splitter.split_text(ds['train'][0]['contents'])"
   ]
  },
  {
   "cell_type": "code",
   "execution_count": 118,
   "metadata": {},
   "outputs": [],
   "source": [
    "def create_chunks(dataset, window_size=128, overlap=32):\n",
    "    chunked_data = []\n",
    "    stacked_id = 0 \n",
    "    for example in tqdm(dataset, total = len(dataset)):\n",
    "        content = example['content']\n",
    "        chunked_content = text_splitter.split_text(content)\n",
    "        for chunk_id, chunk in enumerate(chunked_content):\n",
    "            if chunk[:2] == \". \":\n",
    "                chunk = chunk[2:]\n",
    "            chunked_example = {\n",
    "                \"stacked_id\": stacked_id,\n",
    "                'chunk_id': chunk_id,\n",
    "                'chunk': chunk,\n",
    "                'contents_chunk': example['title'] + \". \" + chunk,\n",
    "                \"original\":example\n",
    "            }\n",
    "            chunked_data.append(chunked_example)\n",
    "            stacked_id += 1\n",
    "    return chunked_data"
   ]
  },
  {
   "cell_type": "code",
   "execution_count": 119,
   "metadata": {},
   "outputs": [
    {
     "data": {
      "application/vnd.jupyter.widget-view+json": {
       "model_id": "afda9c4a2ea14d4fb21049f8978c0b57",
       "version_major": 2,
       "version_minor": 0
      },
      "text/plain": [
       "  0%|          | 0/9268 [00:00<?, ?it/s]"
      ]
     },
     "metadata": {},
     "output_type": "display_data"
    }
   ],
   "source": [
    "ReCOP_chunked = create_chunks(ds['train'])"
   ]
  },
  {
   "cell_type": "code",
   "execution_count": 120,
   "metadata": {},
   "outputs": [
    {
     "data": {
      "text/plain": [
       "{'stacked_id': 24717,\n",
       " 'chunk_id': 6,\n",
       " 'chunk': 'It is inherited in an autosomal recessive fashion and results from a founder homozygous missense mutation in B4GALT7. Mutations in the linkeropathy genes (XYLT1, XYLT2, B4GALT7, B3GALT6, and B3GAT3) can be associated with ocular findings, including blue sclerae, refractive errors, corneal clouding, strabismus, nystagmus, cataracts, glaucoma, and retinal abnormalities, including retinal detachment',\n",
       " 'contents_chunk': 'Overview of Larsen Syndrome. It is inherited in an autosomal recessive fashion and results from a founder homozygous missense mutation in B4GALT7. Mutations in the linkeropathy genes (XYLT1, XYLT2, B4GALT7, B3GALT6, and B3GAT3) can be associated with ocular findings, including blue sclerae, refractive errors, corneal clouding, strabismus, nystagmus, cataracts, glaucoma, and retinal abnormalities, including retinal detachment',\n",
       " 'original': {'id': 'nord_697_0',\n",
       "  'title': 'Overview of Larsen Syndrome',\n",
       "  'content': 'SummaryLarsen syndrome is a rare genetic disorder that has been associated with a wide variety of different symptoms. Characteristic findings of the disorder include dislocations of the large joints, skeletal malformations, and distinctive facial and limb features. Additional findings may include abnormal curvature of the spine, clubfoot, short stature, and breathing (respiratory) difficulties. The classic form of Larsen syndrome is caused by mutations of the FLNB gene with a frequency of 1 in 100,000. The mutation may occur spontaneously or be inherited as an autosomal dominant trait. Introduction FLNB-related disorders are a group of disorders (including autosomal dominant Larsen syndrome) that occur due to mutations of the Filamin B gene (FLNB) gene. This group includes atelosteogenesis types I and III, boomerang dysplasia and spondylocarpotarsal syndrome. These disorders are characterized by skeletal abnormalities affecting the bones of the hands and feet, the bones of the spine (vertebrae), joint dislocations, and distinctive facial features. The specific symptoms and severity of these disorders may vary greatly even among members of the same family. Researchers have identified individuals with multiple joint dislocations and skeletal anomalies whose condition appears to be inherited as an autosomal recessive trait. These individuals often have different radiological findings than those with classic Larsen syndrome. Mutations in the carbohydrate sulfotransferase 3 (CHST3) gene have been identified in patients with so-called autosomal recessive Larsen syndrome that also includes humero-spinal dysostosis and spondyloepiphyseal dysplasia Omani type. A variant of Larsen syndrome was reported in patients from Reunion Island in the southern Indian Ocean and characterized by dwarfism, hyperlaxity, multiple dislocations and distinctive facial features. It is inherited in an autosomal recessive fashion and results from a founder homozygous missense mutation in B4GALT7. Mutations in the linkeropathy genes (XYLT1, XYLT2, B4GALT7, B3GALT6, and B3GAT3) can be associated with ocular findings, including blue sclerae, refractive errors, corneal clouding, strabismus, nystagmus, cataracts, glaucoma, and retinal abnormalities, including retinal detachment. A consanguineous Saudi family with severe and recurrent large joint dislocation and severe myopia, was identified with a homozygous truncating variant in GZF1. These ocular findings are not seen in FLNB-related disorders. Since these disorders are known to be caused by different genes than classic, autosomal dominant Larsen syndrome, the term autosomal recessive Larsen syndrome should probably be avoided to prevent confusion with clinical disorders resulting from mutations in FLNB.',\n",
       "  'contents': 'Overview of Larsen Syndrome. SummaryLarsen syndrome is a rare genetic disorder that has been associated with a wide variety of different symptoms. Characteristic findings of the disorder include dislocations of the large joints, skeletal malformations, and distinctive facial and limb features. Additional findings may include abnormal curvature of the spine, clubfoot, short stature, and breathing (respiratory) difficulties. The classic form of Larsen syndrome is caused by mutations of the FLNB gene with a frequency of 1 in 100,000. The mutation may occur spontaneously or be inherited as an autosomal dominant trait. Introduction FLNB-related disorders are a group of disorders (including autosomal dominant Larsen syndrome) that occur due to mutations of the Filamin B gene (FLNB) gene. This group includes atelosteogenesis types I and III, boomerang dysplasia and spondylocarpotarsal syndrome. These disorders are characterized by skeletal abnormalities affecting the bones of the hands and feet, the bones of the spine (vertebrae), joint dislocations, and distinctive facial features. The specific symptoms and severity of these disorders may vary greatly even among members of the same family. Researchers have identified individuals with multiple joint dislocations and skeletal anomalies whose condition appears to be inherited as an autosomal recessive trait. These individuals often have different radiological findings than those with classic Larsen syndrome. Mutations in the carbohydrate sulfotransferase 3 (CHST3) gene have been identified in patients with so-called autosomal recessive Larsen syndrome that also includes humero-spinal dysostosis and spondyloepiphyseal dysplasia Omani type. A variant of Larsen syndrome was reported in patients from Reunion Island in the southern Indian Ocean and characterized by dwarfism, hyperlaxity, multiple dislocations and distinctive facial features. It is inherited in an autosomal recessive fashion and results from a founder homozygous missense mutation in B4GALT7. Mutations in the linkeropathy genes (XYLT1, XYLT2, B4GALT7, B3GALT6, and B3GAT3) can be associated with ocular findings, including blue sclerae, refractive errors, corneal clouding, strabismus, nystagmus, cataracts, glaucoma, and retinal abnormalities, including retinal detachment. A consanguineous Saudi family with severe and recurrent large joint dislocation and severe myopia, was identified with a homozygous truncating variant in GZF1. These ocular findings are not seen in FLNB-related disorders. Since these disorders are known to be caused by different genes than classic, autosomal dominant Larsen syndrome, the term autosomal recessive Larsen syndrome should probably be avoided to prevent confusion with clinical disorders resulting from mutations in FLNB.',\n",
       "  'nordid': 697,\n",
       "  'rare-disease': 'Larsen Syndrome'}}"
      ]
     },
     "execution_count": 120,
     "metadata": {},
     "output_type": "execute_result"
    }
   ],
   "source": [
    "ReCOP_chunked[24717]"
   ]
  },
  {
   "cell_type": "code",
   "execution_count": 123,
   "metadata": {},
   "outputs": [],
   "source": [
    "with open(\"/data/jiwoong/workspace/milvus/corpus/ReCOP/json/recop_chunk_0.json\", 'w') as jsfile:\n",
    "    json.dump(ReCOP_chunked, jsfile)"
   ]
  },
  {
   "cell_type": "code",
   "execution_count": 11,
   "metadata": {},
   "outputs": [],
   "source": [
    "with open(\"/data/jiwoong/workspace/milvus/corpus/recop/json/recop_chunk_0.json\", 'r') as jsfile:\n",
    "    ReCOP_chunked = json.load(jsfile)"
   ]
  },
  {
   "cell_type": "code",
   "execution_count": 12,
   "metadata": {},
   "outputs": [],
   "source": [
    "device = torch.device(\"cuda\" if torch.cuda.is_available() else \"cpu\")\n",
    "\n",
    "model = AutoModel.from_pretrained(\"ncbi/MedCPT-Article-Encoder\").to(device)\n",
    "tokenizer = AutoTokenizer.from_pretrained(\"ncbi/MedCPT-Article-Encoder\")\n",
    "\n",
    "def medcpt_embedding_function(docs):\n",
    "    encoded = tokenizer(\n",
    "        docs,\n",
    "        truncation=True,\n",
    "        padding=True,\n",
    "        return_tensors='pt',\n",
    "        max_length=512,\n",
    "    )\n",
    "    encoded = {k: v.to(device) for k, v in encoded.items()}\n",
    "    with torch.no_grad():\n",
    "        embeds = model(**encoded).last_hidden_state[:, 0, :]\n",
    "    embeds = embeds.cpu().numpy()\n",
    "    return embeds[0].tolist()"
   ]
  },
  {
   "cell_type": "code",
   "execution_count": 13,
   "metadata": {},
   "outputs": [
    {
     "data": {
      "application/vnd.jupyter.widget-view+json": {
       "model_id": "1bfbcbf37d69432180843710cf81726a",
       "version_major": 2,
       "version_minor": 0
      },
      "text/plain": [
       "  0%|          | 0/47575 [00:00<?, ?it/s]"
      ]
     },
     "metadata": {},
     "output_type": "display_data"
    }
   ],
   "source": [
    "vectors = []\n",
    "for chunk in tqdm(ReCOP_chunked):\n",
    "    vectors.append(medcpt_embedding_function([\n",
    "        [chunk['original']['title'],chunk['chunk']]\n",
    "        ])\n",
    "        )"
   ]
  },
  {
   "cell_type": "code",
   "execution_count": 16,
   "metadata": {},
   "outputs": [],
   "source": [
    "import numpy as np\n",
    "import os\n",
    "\n",
    "save_dir = \"/data/jiwoong/workspace/milvus/corpus/recop/vector/recop_embeds_0.npy\"\n",
    "np.save(save_dir, np.array(vectors))"
   ]
  },
  {
   "cell_type": "code",
   "execution_count": null,
   "metadata": {},
   "outputs": [],
   "source": [
    "with open(\"/data/jiwoong/workspace/milvus/corpus/recop/json/recop_chunk_0.json\", 'r') as jsfile:\n",
    "    ReCOP_chunked = json.load(jsfile)"
   ]
  },
  {
   "cell_type": "code",
   "execution_count": 17,
   "metadata": {},
   "outputs": [
    {
     "name": "stdout",
     "output_type": "stream",
     "text": [
      "Data has 47575 entities, each with fields:  dict_keys(['id', 'vector', 'text', 'source'])\n",
      "Vector dim: 768\n"
     ]
    }
   ],
   "source": [
    "data = [\n",
    "    {\"id\": i, \"vector\": vectors[i], \"text\": f\"recop_0_{ReCOP_chunked[i]['stacked_id']}\", \"source\": \"recop\"}\n",
    "    for i in range(len(vectors))\n",
    "]\n",
    "\n",
    "print(\"Data has\", len(data), \"entities, each with fields: \", data[0].keys())\n",
    "print(\"Vector dim:\", len(data[0][\"vector\"]))"
   ]
  },
  {
   "cell_type": "code",
   "execution_count": 18,
   "metadata": {},
   "outputs": [],
   "source": [
    "with open(\"/data/jiwoong/workspace/milvus/corpus/recop/data/recop_data_0.json\", 'w') as jsfile:\n",
    "    json.dump(data, jsfile)"
   ]
  },
  {
   "cell_type": "code",
   "execution_count": 3,
   "metadata": {},
   "outputs": [],
   "source": [
    "for i in range(0, 47475, 10000):\n",
    "    client.insert(collection_name='medagents', data=data[i:i+10000])\n",
    "\n",
    "collections = client.list_collections()\n",
    "\n",
    "data = fetch_collection_data(collection)\n",
    "\n",
    "client.drop_collection(collection_name='recop')"
   ]
  },
  {
   "cell_type": "code",
   "execution_count": 8,
   "metadata": {},
   "outputs": [
    {
     "data": {
      "image/png": "[encoded data removed]",
      "text/plain": [
       "<Figure size 640x480 with 1 Axes>"
      ]
     },
     "metadata": {},
     "output_type": "display_data"
    }
   ],
   "source": [
    "import matplotlib.pyplot as plt\n",
    "word_counts = []\n",
    "\n",
    "for example in ds['train']:\n",
    "    content = example['contents']\n",
    "    word_count = len(content.split())\n",
    "    word_counts.append(word_count)\n",
    "\n",
    "plt.hist(word_counts, bins=20, edgecolor='black')\n",
    "plt.title('Histogram of Word Counts in \"contents\"')\n",
    "plt.xlabel('Number of Words')\n",
    "plt.ylabel('Frequency')\n",
    "plt.show()\n"
   ]
  }
 ],
 "metadata": {
  "kernelspec": {
   "display_name": "meerkat",
   "language": "python",
   "name": "python3"
  },
  "language_info": {
   "codemirror_mode": {
    "name": "ipython",
    "version": 3
   },
   "file_extension": ".py",
   "mimetype": "text/x-python",
   "name": "python",
   "nbconvert_exporter": "python",
   "pygments_lexer": "ipython3",
   "version": "3.9.19"
  }
 },
 "nbformat": 4,
 "nbformat_minor": 2
}

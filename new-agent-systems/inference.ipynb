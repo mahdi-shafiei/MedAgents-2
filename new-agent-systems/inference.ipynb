{
 "cells": [
  {
   "cell_type": "code",
   "execution_count": 1,
   "metadata": {},
   "outputs": [],
   "source": [
    "from transformers import AutoTokenizer, AutoModel, AutoModelForSequenceClassification\n",
    "import torch\n",
    "import os\n",
    "from natsort import natsorted\n",
    "import json\n",
    "from tqdm import tqdm\n",
    "import numpy as np\n",
    "import regex as re"
   ]
  },
  {
   "cell_type": "code",
   "execution_count": 50,
   "metadata": {},
   "outputs": [],
   "source": [
    "with open(\"/data/jiwoong/workspace/MDAgents/output/gpt-4o-mini_medqa_adaptive.json\", 'r') as jsfile:\n",
    "    result = json.load(jsfile)"
   ]
  },
  {
   "cell_type": "code",
   "execution_count": 51,
   "metadata": {},
   "outputs": [
    {
     "data": {
      "text/plain": [
       "38"
      ]
     },
     "execution_count": 51,
     "metadata": {},
     "output_type": "execute_result"
    }
   ],
   "source": [
    "len(result)"
   ]
  },
  {
   "cell_type": "code",
   "execution_count": 32,
   "metadata": {},
   "outputs": [],
   "source": [
    "import json\n",
    "result_path = \"/data/jiwoong/workspace/MedAgents/outputs/MedQA/50_sampled_hard_medqa/gpt4omini-base_cot\"\n",
    "results = [] \n",
    "with open(result_path, 'r') as file:\n",
    "    for line in file:\n",
    "        results.append(json.loads(line))"
   ]
  },
  {
   "cell_type": "code",
   "execution_count": 33,
   "metadata": {},
   "outputs": [
    {
     "data": {
      "text/plain": [
       "0.34"
      ]
     },
     "execution_count": 33,
     "metadata": {},
     "output_type": "execute_result"
    }
   ],
   "source": [
    "count = 0\n",
    "for i in results:\n",
    "    if i['pred_answer'] == i['gold_answer']:\n",
    "        count += 1\n",
    "count/50"
   ]
  },
  {
   "cell_type": "code",
   "execution_count": 14,
   "metadata": {},
   "outputs": [],
   "source": [
    "from pymilvus import MilvusClient, DataType\n",
    "\n",
    "client = MilvusClient(\n",
    "    uri=\"http://localhost:19530\"\n",
    ")"
   ]
  },
  {
   "cell_type": "code",
   "execution_count": 15,
   "metadata": {},
   "outputs": [],
   "source": [
    "collections = client.list_collections()"
   ]
  },
  {
   "cell_type": "code",
   "execution_count": 16,
   "metadata": {},
   "outputs": [
    {
     "data": {
      "text/plain": [
       "['medagents', 'rag2']"
      ]
     },
     "execution_count": 16,
     "metadata": {},
     "output_type": "execute_result"
    }
   ],
   "source": [
    "collections"
   ]
  },
  {
   "cell_type": "code",
   "execution_count": 3,
   "metadata": {},
   "outputs": [],
   "source": [
    "if client.has_collection(collection_name=\"medagents\"):\n",
    "#    client.drop_collection(collection_name=\"medagents\")"
   ]
  },
  {
   "cell_type": "code",
   "execution_count": null,
   "metadata": {},
   "outputs": [],
   "source": [
    "def data_upload(client, collection_name, corpus_list=['statpearls','recop','textbooks','cpg']):\n",
    "    global_offset = 0\n",
    "    batch_size = 10000\n",
    "    client.create_collection(\n",
    "        collection_name=collection_name,\n",
    "        dimension=768,\n",
    "        metric_type=\"IP\",  # Inner product distance\n",
    "        consistency_level=\"Strong\",  # Strong consistency level\n",
    "    )\n",
    "    print(f\"data uploading to '{collection_name}' collection in milvus client...\\n\")\n",
    "    for corpus_name in corpus_list:\n",
    "        print(f\"Processing corpus: {corpus_name}\")\n",
    "        chunk_numbers = len(os.listdir(f\"/data/jiwoong/workspace/milvus/corpus/{corpus_name}/data/\"))\n",
    "        for chunk_num in range(chunk_numbers):\n",
    "            vectors = np.load(f\"/data/jiwoong/workspace/milvus/corpus/{corpus_name}/vector/{corpus_name}_embeds_{chunk_num}.npy\")\n",
    "            with open(f\"/data/jiwoong/workspace/milvus/corpus/{corpus_name}/json/{corpus_name}_chunk_{chunk_num}.json\", 'r') as jsfile:\n",
    "                texts = json.load(jsfile)\n",
    "            data_loaded = [\n",
    "                    {\"vector\": vectors[ith].tolist(), \"text\": texts[ith]['contents_chunk'], \"source\": corpus_name}\n",
    "                    for ith in range(0, len(vectors))\n",
    "                ]\n",
    "            for i in range(0, len(data_loaded), batch_size):\n",
    "                batch = data_loaded[i:i+batch_size]\n",
    "                for idx, item in enumerate(batch):\n",
    "                    item['id'] = global_offset + idx\n",
    "                client.insert(collection_name=collection_name, data=batch)\n",
    "                global_offset += len(batch)\n",
    "        print(f\"{corpus_name} Uploaded!\")"
   ]
  },
  {
   "cell_type": "code",
   "execution_count": 85,
   "metadata": {},
   "outputs": [],
   "source": [
    "def data_upload(client, collection_name='rag2', corpus_list=['statpearls','recop','textbooks','cpg']):\n",
    "    global_offset = 0\n",
    "    batch_size = 10000\n",
    "    client.create_collection(\n",
    "        collection_name=collection_name,\n",
    "        dimension=768,\n",
    "        metric_type=\"IP\",  # Inner product distance\n",
    "        consistency_level=\"Strong\",  # Strong consistency level\n",
    "    )\n",
    "    print(f\"data uploading to '{collection_name}' collection in milvus client...\\n\")\n",
    "    for corpus_name in corpus_list:\n",
    "        print(f\"Processing corpus: {corpus_name}\")\n",
    "        chunk_numbers = len(os.listdir(f\"/data/jiwoong/workspace/milvus/corpus/{corpus_name}/data/\"))\n",
    "        for chunk_num in range(chunk_numbers):\n",
    "            vectors = np.load(f\"/data/jiwoong/workspace/milvus/corpus/{corpus_name}/vector/{corpus_name}_embeds_{chunk_num}.npy\")\n",
    "            with open(f\"/data/jiwoong/workspace/milvus/corpus/{corpus_name}/json/{corpus_name}_chunk_{chunk_num}.json\", 'r') as jsfile:\n",
    "                texts = json.load(jsfile)\n",
    "            data_loaded = [\n",
    "                    {\"vector\": vectors[ith].tolist(), \"text\": texts[ith]['contents_chunk'], \"source\": corpus_name}\n",
    "                    for ith in range(0, len(vectors))\n",
    "                ]\n",
    "            for i in range(0, len(data_loaded), batch_size):\n",
    "                batch = data_loaded[i:i+batch_size]\n",
    "                for idx, item in enumerate(batch):\n",
    "                    item['id'] = global_offset + idx\n",
    "                client.insert(collection_name=collection_name, data=batch)\n",
    "                global_offset += len(batch)\n",
    "        print(f\"{corpus_name} Uploaded!\")"
   ]
  },
  {
   "cell_type": "code",
   "execution_count": null,
   "metadata": {},
   "outputs": [
    {
     "name": "stdout",
     "output_type": "stream",
     "text": [
      "data uploading to 'rag2' collection in milvus client...\n",
      "\n",
      "Processing corpus: statpearls\n",
      "statpearls Uploaded!\n",
      "Processing corpus: recop\n",
      "recop Uploaded!\n",
      "Processing corpus: textbooks\n",
      "textbooks Uploaded!\n",
      "Processing corpus: cpg\n"
     ]
    }
   ],
   "source": [
    "data_upload(client)"
   ]
  },
  {
   "cell_type": "code",
   "execution_count": null,
   "metadata": {},
   "outputs": [],
   "source": [
    "client.create_collection(\n",
    "    collection_name=\"medagents\",\n",
    "    dimension=768,\n",
    "    metric_type=\"IP\",  # Inner product distance\n",
    "    consistency_level=\"Strong\",  # Strong consistency level\n",
    ")"
   ]
  },
  {
   "cell_type": "code",
   "execution_count": null,
   "metadata": {},
   "outputs": [],
   "source": [
    "from pymilvus import MilvusClient, DataType\n",
    "\n",
    "client = MilvusClient(\n",
    "    uri=\"http://localhost:19530\"\n",
    ")\n",
    "\n",
    "def retrieve(query, source_filter , client, topk = 100):\n",
    "    search_res = client.search(\n",
    "    collection_name='rag2',\n",
    "    data=[\n",
    "        medcpt_query_embedding_function(query)\n",
    "    ],  \n",
    "    limit=topk,  \n",
    "    search_params={\"metric_type\": \"IP\", \"params\": {}},  \n",
    "    output_fields=[\"text\", 'source'],  \n",
    "    filter = source_filter \n",
    "    )\n",
    "    \n",
    "    evidence_list = [result[\"entity\"][\"text\"] for result in search_res[0][:topk]]\n",
    "    return evidence_list\n",
    "\n",
    "def retrieve_filtered_sources(query, client, allowed_sources = [\"source == 'PubMed'\", \"source == 'PMC'\", \"source == 'Textbook'\", \"source == 'CPG'\", \"source == 'statpearls'\", \"source == 'recop'\", \"source == 'textbooks'\", \"source == 'cpg'\"], topk=100):\n",
    "#def retrieve_filtered_sources(query, client, allowed_sources = [\"source == 'statpearls'\", \"source == 'recop'\", \"source == 'textbooks'\", \"source == 'cpg'\"], topk=100):\n",
    "    evidence_list = []\n",
    "    for source_filter  in allowed_sources:\n",
    "        evidence_list.extend(retrieve(query, source_filter, client, topk=topk, ))\n",
    "    return evidence_list\n",
    "\n",
    "\n",
    "device = \"cuda:1\"\n",
    "model_q = AutoModel.from_pretrained(\"ncbi/MedCPT-Query-Encoder\").to(device)\n",
    "tokenizer_q = AutoTokenizer.from_pretrained(\"ncbi/MedCPT-Query-Encoder\")\n",
    "\n",
    "def medcpt_query_embedding_function(docs):\n",
    "    encoded = tokenizer_q(\n",
    "        docs,\n",
    "        truncation=True,\n",
    "        padding=True,\n",
    "        return_tensors='pt',\n",
    "        max_length=512,\n",
    "    )\n",
    "    encoded = {k: v.to(device) for k, v in encoded.items()}\n",
    "    with torch.no_grad():\n",
    "        embeds = model_q(**encoded).last_hidden_state[:, 0, :]\n",
    "    embeds = embeds.cpu().numpy()\n",
    "    return embeds[0].tolist()\n",
    "\n",
    "model_c = AutoModelForSequenceClassification.from_pretrained(\"ncbi/MedCPT-Cross-Encoder\").to(device)\n",
    "tokenizer_c = AutoTokenizer.from_pretrained(\"ncbi/MedCPT-Cross-Encoder\")\n",
    "\n",
    "def rerank(query, doc_list):\n",
    "    pairs = [[query, doc] for doc in doc_list]\n",
    "    with torch.no_grad():\n",
    "        encoded = tokenizer_c(\n",
    "            pairs,\n",
    "            truncation=True,\n",
    "            padding=True,\n",
    "            return_tensors=\"pt\",\n",
    "            max_length=512,\n",
    "        )\n",
    "        encoded = {k: v.to(device) for k, v in encoded.items()} \n",
    "        logits = model_c(**encoded).logits.squeeze(dim=1).detach().cpu()\n",
    "    sorted_indices = torch.argsort(logits, descending=True)\n",
    "    ranked_docs = [doc_list[i] for i in sorted_indices]\n",
    "    return ranked_docs\n",
    "\n",
    "def retrieve_meta(query, client, topk = 100):\n",
    "    search_res = client.search(\n",
    "    collection_name='medagents',\n",
    "    data=[\n",
    "        medcpt_query_embedding_function('A junior orthopaedic surgery resident is completing a carpal tunnel repair with the department chairman as the attending physician. During the case, the resident inadvertently cuts a flexor tendon. The tendon is repaired without complication. The attending tells the resident that the patient will do fine, and there is no need to report this minor complication that will not harm the patient, as he does not want to make the patient worry unnecessarily. He tells the resident to leave this complication out of the operative report. Which of the following is the correct next action for the resident to take?')\n",
    "    ],  \n",
    "    limit=topk,  \n",
    "    search_params={\"metric_type\": \"IP\", \"params\": {}},  \n",
    "    output_fields=[\"text\", 'source'],  \n",
    "    #filter = \"source == 'statpearls'\"\n",
    "    )\n",
    "    \n",
    "    evidene_list = []\n",
    "    for kth in tqdm(range(topk)):\n",
    "        corpus, chunk_num, stacked_id, = search_res[0][kth]['entity']['text'].split(\"_\")\n",
    "        print(corpus, chunk_num, stacked_id)\n",
    "        with open(f\"/data/jiwoong/workspace/milvus/corpus/{corpus}/json/{corpus}_chunk_{chunk_num}.json\", 'r') as jsfile:\n",
    "            evidene_list.append((json.load(jsfile)[int(stacked_id)]['contents_chunk']))\n",
    "            \n",
    "    return evidene_list"
   ]
  },
  {
   "cell_type": "code",
   "execution_count": 41,
   "metadata": {},
   "outputs": [],
   "source": [
    "import json\n",
    "medqa_test_path = \"/data/jiwoong/workspace/MedAgents/datasets/MedQA/50_sampled_hard_medqa/test.jsonl\"\n",
    "medqa_test = [] \n",
    "with open(medqa_test_path, 'r') as file:\n",
    "    for line in file:\n",
    "        medqa_test.append(json.loads(line))"
   ]
  },
  {
   "cell_type": "code",
   "execution_count": null,
   "metadata": {},
   "outputs": [],
   "source": [
    "from openai import AzureOpenAI\n",
    "from concurrent.futures import ThreadPoolExecutor, as_completed\n",
    "from dotenv import load_dotenv\n",
    "\n",
    "azure client = AzureOpenAI(\n",
    "    azure_endpoint = \"https://azure-openai-miblab-ncu.openai.azure.com/\",\n",
    "    api_key = os.getenv(\"azure_api_key\"),\n",
    "    api_version = \"2024-08-01-preview\",\n",
    ")\n",
    "\n",
    "\n",
    "def generate_response(question):\n",
    "    response = azure_client.chat.completions.create(\n",
    "        model=\"gpt-4o-mini\",\n",
    "        messages=question,\n",
    "        logprobs=True,\n",
    "        temperature=0,\n",
    "        n=1\n",
    "    )\n",
    "    return response.choices[0].message.content\n",
    "\n",
    "def generate_responses_in_parallel(prompts):\n",
    "    result = [None] * len(prompts)  # Initialize list with None to store results in order\n",
    "    # Function to generate response and store it at the correct index\n",
    "    def generate_response_with_index(index, prompt):\n",
    "        response = generate_response(prompt)\n",
    "        return index, response\n",
    "    with ThreadPoolExecutor() as executor:\n",
    "        # Submit all tasks to the executor and keep track of the future objects\n",
    "        futures = {executor.submit(generate_response_with_index, i, prompt): i for i, prompt in enumerate(prompts)}\n",
    "\n",
    "        for future in tqdm(as_completed(futures), total=len(prompts)):\n",
    "            index, response = future.result()  # Get the result when a thread completes\n",
    "            result[index] = response  # Store the response in the correct index\n",
    "    return result"
   ]
  },
  {
   "cell_type": "code",
   "execution_count": 74,
   "metadata": {},
   "outputs": [],
   "source": [
    "def encode_question_gen_query2doc(question: str,) -> list[str]:\n",
    "    prompts= []\n",
    "    few_shot_template = \"\"\"...\n",
    "Example:\n",
    "\n",
    "Query: A 39-year-old woman presents to the family medicine clinic to be evaluated by her physician for weight gain. She reports feeling fatigued most of the day despite eating a healthy diet and exercising regularly. The patient smokes a half-pack of cigarettes daily and has done so for the last 23 years. She is employed as a phlebotomist by the Red Cross. She has a history of hyperlipidemia for which she takes atorvastatin. She is unaware of her vaccination history, and there is no documented record of her receiving any vaccinations. Her heart rate is 76/min, respiratory rate is 14/min, temperature is 37.3°C (99.1°F), body mass index (BMI) is 33 kg/m2, and blood pressure is 128/78 mm Hg. The patient appears alert and oriented. Lung and heart auscultation are without audible abnormalities. The physician orders a thyroid panel to determine if that patient has hypothyroidism. Which of the following recommendations may be appropriate for the patient at this time? A) Hepatitis B vaccination B) Low-dose chest CT C) Hepatitis C vaccination D) Shingles vaccination\n",
    "Passage: against vaccine-preventable diseases. Every visit by an adult to a health-care provider should be an opportunity to provide this protection. Several factors need to be con sidered before any patient is vaccinated. These include the susceptibility of the patient, the risk of exposure to the disease, the risk from the disease, and the benefits and risks from the immunizing agent. Physicians should maintain detailed information about previous vaccina tions received by each individual, including type of vaccination, date of receipt, and adverse events, if any, following vaccination. Information should also include the person's history of vaccine-preventable illnesses, occupation, and lifestyle. Vaccine histories ideally should be based on written documentation to ascertain whether vaccines and toxoids were administered at appropriate ages and at proper intervals. Close attention to factors\n",
    "\n",
    "Query: A 23-year-old male presents to his primary care physician after an injury during a rugby game. The patient states that he was tackled and ever since then has had pain in his knee. The patient has tried NSAIDs and ice to no avail. The patient has no past medical history and is currently taking a multivitamin, fish oil, and a whey protein supplement. On physical exam you note a knee that is heavily bruised. It is painful for the patient to bear weight on the knee, and passive motion of the knee elicits some pain. There is laxity at the knee to varus stress. The patient is wondering when he can return to athletics. Which of the following is the most likely diagnosis? A) Medial collateral ligament tear B) Lateral collateral ligament tear C) Anterior cruciate ligament tear D) Posterior cruciate ligament tear\n",
    "Passage: Diagnosing PCL Injuries: History, Physical Examination, Imaging Studies, Arthroscopic Evaluation. Isolated posterior cruciate ligament (PCL) injuries are uncommon and can be easily missed with physical examination. The purpose of this article is to give an overview of the clinical, diagnostic and arthroscopic evaluation of a PCL injured knee. There are some specific injury mechanisms that can cause a PCL including the dashboard direct anterior blow and hyperflexion mechanisms. During the diagnostic process it is important to distinguish between an isolated or multiligament injury and whether the problem is acute or chronic. Physical examination can be difficult in an acutely injured knee because of pain and swelling, but there are specific functional tests that can indicate a PCL tear. Standard x-ray's and stress views are very useful imaging modalities\n",
    "\n",
    "Query: A 45-year-old woman is in a high-speed motor vehicle accident and suffers multiple injuries to her extremities and abdomen. In the field, she was bleeding profusely bleeding and, upon arrival to the emergency department, she is lethargic and unable to speak. Her blood pressure on presentation is 70/40 mmHg. The trauma surgery team recommends emergency exploratory laparotomy. While the patient is in the trauma bay, her husband calls and says that the patient is a Jehovah's witness and that her religion does not permit her to receive a blood transfusion. No advanced directives are available. Which of the following is an appropriate next step? A) Provide transfusions as needed B) Withhold transfusion based on husband's request C) Obtain an ethics consult D) Obtain a court order for transfusion\n",
    "Passage: Legal and ethical issues in safe blood transfusion. This is another D and C Act requirement which is seldom followed, possibly because there are no standard guidelines.\n",
    "\n",
    "Query: A 4-year-old male is accompanied by his mother to the pediatrician. His mother reports that over the past two weeks, the child has had intermittent low grade fevers and has been more lethargic than usual. The child’s past medical history is notable for myelomeningocele complicated by lower extremity weakness as well as bowel and bladder dysfunction. He has been hospitalized multiple times at an outside facility for recurrent urinary tract infections. The child is in the 15th percentile for both height and weight. His temperature is 100.7°F (38.2°C), blood pressure is 115/70 mmHg, pulse is 115/min, and respirations are 20/min. Physical examination is notable for costovertebral angle tenderness that is worse on the right. Which of the following would most likely be found on biopsy of this patient’s kidney? A) Mononuclear and eosinophilic infiltrate B) Replacement of renal parenchyma with foamy histiocytes C) Destruction of the proximal tubule and medullary thick ascending limb D) Tubular colloid casts with diffuse lymphoplasmacytic infiltrate\n",
    "Passage: The natural history of urinary infection in adults. The vast majority of otherwise healthy adults with anatomically and functionally normal urinary tracts experience few untoward long-term consequences from symptomatic or asymptomatic UTIs. Effective early treatment of symptomatic infection rapidly curtails bacterial invasion and the resulting inflammatory response. Rarely, uncomplicated acute pyelonephritis causes suppuration and renal scarring. Urinary infections in patients with renal calculi, obstructed urinary tract, neurogenic bladder, or diabetes are frequently much more destructive and have ongoing sequelae. Strategies to treat both the infection and the complications are often necessary to alter this outcome.\n",
    "...\n",
    "\n",
    "Query: {}\n",
    "Passage:\n",
    "\"\"\".format(question)\n",
    "    prompts.append({\"role\": \"system\", \"content\": \"Write a medical passage that can help answer the given query. Include key information or terminology for the answer.\"})\n",
    "    prompts.append({\"role\": \"user\", \"content\": few_shot_template})\n",
    "    return prompts\n",
    "\n",
    "def encode_question_gen(evidence: str,question: str,options: str,) -> list[str]:\n",
    "    prompts= []\n",
    "    prompt_rag = \"\"\"Here is the relevant document:\n",
    "{}\n",
    "\n",
    "Here is the question:\n",
    "{}\n",
    "\n",
    "Here are the options:\n",
    "{}\n",
    "\n",
    "Please think step-by-step and generate your output.\n",
    "\"\"\".format(evidence, question, options)\n",
    "    prompts.append({\"role\": \"system\", \"content\": \"The following is a multiple-choice question about medical knowledge. Solve this in a step-by-step fashion, starting by summarizing the available information. Output a single option from the given options as the final answer. You are strongly required to follow the specified output format; conclude your response with the phrase \\\"the answer is ([option_index]) [answer_string]\\\".\"})\n",
    "    prompts.append({\"role\": \"user\", \"content\": prompt_rag})\n",
    "    return prompts"
   ]
  },
  {
   "cell_type": "code",
   "execution_count": 10,
   "metadata": {},
   "outputs": [
    {
     "data": {
      "text/plain": [
       "50"
      ]
     },
     "execution_count": 10,
     "metadata": {},
     "output_type": "execute_result"
    }
   ],
   "source": [
    "len(medqa_test)"
   ]
  },
  {
   "cell_type": "code",
   "execution_count": 75,
   "metadata": {},
   "outputs": [],
   "source": [
    "chatgpt_prompts = []\n",
    "for index, test in enumerate(medqa_test):\n",
    "    chatgpt_prompts.append(encode_question_gen_query2doc(test['question'] + ' (A) ' + test['options']['A'] + ' (B) ' + test['options']['B'] + ' (C) ' + test['options']['C'] + ' (D) ' + test['options']['D'], ))"
   ]
  },
  {
   "cell_type": "code",
   "execution_count": 13,
   "metadata": {},
   "outputs": [
    {
     "name": "stderr",
     "output_type": "stream",
     "text": [
      "100%|██████████| 50/50 [00:11<00:00,  4.40it/s]\n"
     ]
    }
   ],
   "source": [
    "pseudodocs = generate_responses_in_parallel(chatgpt_prompts)"
   ]
  },
  {
   "cell_type": "code",
   "execution_count": 54,
   "metadata": {},
   "outputs": [],
   "source": [
    "with open(\"/data/jiwoong/retriever/input/query2doc/hard_medqa_gpt4omini_query2doc_fewshot\", 'r') as jsfile:\n",
    "    pseudodocs = json.load(jsfile)"
   ]
  },
  {
   "cell_type": "code",
   "execution_count": 68,
   "metadata": {},
   "outputs": [
    {
     "name": "stderr",
     "output_type": "stream",
     "text": [
      "100%|██████████| 50/50 [03:49<00:00,  4.60s/it]\n"
     ]
    }
   ],
   "source": [
    "realdocs = []\n",
    "for pseudodoc in tqdm(pseudodocs):\n",
    "    realdocs.append(retrieve_filtered_sources(pseudodoc, client, allowed_sources = [\"source == 'PubMed'\", \"source == 'PMC'\", \"source == 'Textbook'\", \"source == 'CPG'\"], topk=100))"
   ]
  },
  {
   "cell_type": "code",
   "execution_count": 70,
   "metadata": {},
   "outputs": [
    {
     "name": "stderr",
     "output_type": "stream",
     "text": [
      "50it [01:38,  1.97s/it]\n"
     ]
    }
   ],
   "source": [
    "rankeddocs = []\n",
    "for index, realdoc in tqdm(enumerate(realdocs)):\n",
    "    test = medqa_test[index]\n",
    "    rankeddocs.append(rerank(\n",
    "        pseudodocs[index],\n",
    "#        test['question'] + ' (A) ' + test['options']['A'] + ' (B) ' + test['options']['B'] + ' (C) ' + test['options']['C'] + ' (D) ' + test['options']['D'],\n",
    "        realdoc))"
   ]
  },
  {
   "cell_type": "code",
   "execution_count": 77,
   "metadata": {},
   "outputs": [
    {
     "name": "stderr",
     "output_type": "stream",
     "text": [
      "100%|██████████| 50/50 [00:14<00:00,  3.34it/s]"
     ]
    },
    {
     "name": "stdout",
     "output_type": "stream",
     "text": [
      "0.5\n"
     ]
    },
    {
     "name": "stderr",
     "output_type": "stream",
     "text": [
      "\n"
     ]
    }
   ],
   "source": [
    "chatgpt_prompts = []\n",
    "for index, test in enumerate(medqa_test):\n",
    "    context = \"\\n\".join(rankeddocs[index][:100])\n",
    "    chatgpt_prompts.append(encode_question_gen(context, test['question'], '(A) ' + test['options']['A'] + ' (B) ' + test['options']['B'] + ' (C) ' + test['options']['C'] + ' (D) ' + test['options']['D'], ))\n",
    "\n",
    "result_100 = generate_responses_in_parallel(chatgpt_prompts)\n",
    "temp = [0]*50\n",
    "for index, answer in enumerate(result_100):\n",
    "    last_sentence = answer.split('answer is')[-1]\n",
    "    matches = re.findall(r\"\\([A-Da-d]\\)\", last_sentence)\n",
    "    chosen_option_2 = \"\"\n",
    "    if matches:\n",
    "        chosen_option_2 = matches[-1][1]\n",
    "    if medqa_test[index]['answer_idx'] == chosen_option_2:\n",
    "        temp[index] = 1\n",
    "    else:\n",
    "        temp[index] = 0\n",
    "print(sum(temp) / len(temp))"
   ]
  },
  {
   "cell_type": "code",
   "execution_count": null,
   "metadata": {},
   "outputs": [
    {
     "name": "stdout",
     "output_type": "stream",
     "text": [
      "0.44\n"
     ]
    }
   ],
   "source": []
  },
  {
   "cell_type": "code",
   "execution_count": 18,
   "metadata": {},
   "outputs": [
    {
     "name": "stderr",
     "output_type": "stream",
     "text": [
      "100%|██████████| 50/50 [00:12<00:00,  4.16it/s]"
     ]
    },
    {
     "name": "stdout",
     "output_type": "stream",
     "text": [
      "0.54\n"
     ]
    },
    {
     "name": "stderr",
     "output_type": "stream",
     "text": [
      "\n"
     ]
    }
   ],
   "source": [
    "chatgpt_prompts = []\n",
    "for index, test in enumerate(hard_medqa):\n",
    "    context = \"\\n\".join(rankeddoc[index][:25])\n",
    "    chatgpt_prompts.append(encode_question_gen(context, test['question'], '(A) ' + test['options']['A'] + ' (B) ' + test['options']['B'] + ' (C) ' + test['options']['C'] + ' (D) ' + test['options']['D'], ))\n",
    "\n",
    "result_100 = generate_responses_in_parallel(chatgpt_prompts)\n",
    "\n",
    "temp = [0]*50\n",
    "for index, answer in enumerate(result_100):\n",
    "    last_sentence = answer.split('answer is')[-1]\n",
    "    matches = re.findall(r\"\\([A-Da-d]\\)\", last_sentence)\n",
    "    chosen_option_2 = \"\"\n",
    "    if matches:\n",
    "        chosen_option_2 = matches[-1][1]\n",
    "    if hard_medqa[index]['answer_idx'] == chosen_option_2:\n",
    "        temp[index] = 1\n",
    "    else:\n",
    "        temp[index] = 0\n",
    "print(sum(temp) / len(temp))"
   ]
  },
  {
   "cell_type": "code",
   "execution_count": null,
   "metadata": {},
   "outputs": [],
   "source": [
    "with open(\"/data/jiwoong/retriever/output/query2doc/evidence_hard_medqa_gpt4omini_query2doc_fewshot.json\", 'r') as jsfile:\n",
    "    evidence_hard_medqa_gpt4omini_query2doc_fewshot = json.load(jsfile)"
   ]
  },
  {
   "cell_type": "code",
   "execution_count": null,
   "metadata": {},
   "outputs": [],
   "source": []
  },
  {
   "cell_type": "markdown",
   "metadata": {},
   "source": [
    "## original"
   ]
  },
  {
   "cell_type": "code",
   "execution_count": 7,
   "metadata": {},
   "outputs": [],
   "source": [
    "with open(\"/data/jiwoong/retriever/output/query2doc/medqa__gpt4omini_query2doc_combined.json\", 'r') as jsfile:\n",
    "    medqa__gpt4omini_query2doc_combined = json.load(jsfile)"
   ]
  },
  {
   "cell_type": "code",
   "execution_count": 6,
   "metadata": {},
   "outputs": [],
   "source": [
    "hard_medqa = []\n",
    "with open(\"/data/jiwoong/workspace/MedAgents/datasets/MedQA/50_sampled_hard_medqa/test.jsonl\", 'r') as jsfile:\n",
    "    for line in jsfile:\n",
    "        hard_medqa.append(json.loads(line))"
   ]
  },
  {
   "cell_type": "code",
   "execution_count": 10,
   "metadata": {},
   "outputs": [
    {
     "name": "stderr",
     "output_type": "stream",
     "text": [
      "100%|██████████| 50/50 [00:11<00:00,  4.29it/s]"
     ]
    },
    {
     "name": "stdout",
     "output_type": "stream",
     "text": [
      "0.44\n"
     ]
    },
    {
     "name": "stderr",
     "output_type": "stream",
     "text": [
      "\n"
     ]
    }
   ],
   "source": [
    "chatgpt_prompts = []\n",
    "for index, test in enumerate(hard_medqa):\n",
    "    context = \"\"\n",
    "    for ith in range(25):\n",
    "        context+=medqa__gpt4omini_query2doc_combined[index][ith]\n",
    "        context+=\"\\n\"\n",
    "    chatgpt_prompts.append(encode_question_gen(context, test['question'], '(A) ' + test['options']['A'] + ' (B) ' + test['options']['B'] + ' (C) ' + test['options']['C'] + ' (D) ' + test['options']['D'], ))\n",
    "\n",
    "result = generate_responses_in_parallel(chatgpt_prompts)\n",
    "\n",
    "temp = [0]*50\n",
    "for index, answer in enumerate(result):\n",
    "    last_sentence = answer.split('answer is')[-1]\n",
    "    matches = re.findall(r\"\\([A-D]\\)\", last_sentence)\n",
    "    chosen_option_2 = \"\"\n",
    "    if matches:\n",
    "        chosen_option_2 = matches[0][1]\n",
    "    if hard_medqa[index]['answer_idx'] == chosen_option_2:\n",
    "        temp[index] = 1\n",
    "    else:\n",
    "        temp[index] = 0\n",
    "print(sum(temp) / len(temp))"
   ]
  },
  {
   "cell_type": "code",
   "execution_count": 95,
   "metadata": {},
   "outputs": [
    {
     "name": "stderr",
     "output_type": "stream",
     "text": [
      "100%|██████████| 50/50 [00:14<00:00,  3.48it/s]"
     ]
    },
    {
     "name": "stdout",
     "output_type": "stream",
     "text": [
      "0.84\n"
     ]
    },
    {
     "name": "stderr",
     "output_type": "stream",
     "text": [
      "\n"
     ]
    }
   ],
   "source": [
    "chatgpt_prompts = []\n",
    "for index, test in enumerate(medqa_test):\n",
    "    context = \"\"\n",
    "    for ith in range(100):\n",
    "        context+=medqa__gpt4omini_query2doc_combined[index+250][ith]\n",
    "        context+=\"\\n\"\n",
    "    chatgpt_prompts.append(encode_question_gen(context, test['question'], '(A) ' + test['options']['A'] + ' (B) ' + test['options']['B'] + ' (C) ' + test['options']['C'] + ' (D) ' + test['options']['D'], ))\n",
    "\n",
    "result = generate_responses_in_parallel(chatgpt_prompts)\n",
    "\n",
    "temp = [0]*50\n",
    "for index, answer in enumerate(result):\n",
    "    last_sentence = answer.split('answer is')[-1]\n",
    "    matches = re.findall(r\"\\([A-D]\\)\", last_sentence)\n",
    "    chosen_option_2 = \"\"\n",
    "    if matches:\n",
    "        chosen_option_2 = matches[0][1]\n",
    "    if medqa_test[index]['answer_idx'] == chosen_option_2:\n",
    "        temp[index] = 1\n",
    "    else:\n",
    "        temp[index] = 0\n",
    "print(sum(temp) / len(temp))"
   ]
  },
  {
   "cell_type": "code",
   "execution_count": 116,
   "metadata": {},
   "outputs": [
    {
     "name": "stderr",
     "output_type": "stream",
     "text": [
      "100%|██████████| 50/50 [00:12<00:00,  3.88it/s]"
     ]
    },
    {
     "name": "stdout",
     "output_type": "stream",
     "text": [
      "0.84\n"
     ]
    },
    {
     "name": "stderr",
     "output_type": "stream",
     "text": [
      "\n"
     ]
    }
   ],
   "source": [
    "chatgpt_prompts = []\n",
    "for index, test in enumerate(medqa_test):\n",
    "    context = \"\"\n",
    "    for ith in range(100):\n",
    "        context+=medqa__gpt4omini_query2doc_combined[index][ith]\n",
    "        context+=\"\\n\"\n",
    "    chatgpt_prompts.append(encode_question_gen(context, test['question'], '(A) ' + test['options']['A'] + ' (B) ' + test['options']['B'] + ' (C) ' + test['options']['C'] + ' (D) ' + test['options']['D'], ))\n",
    "\n",
    "result = generate_responses_in_parallel(chatgpt_prompts)\n",
    "\n",
    "temp = [0]*50\n",
    "for index, answer in enumerate(result):\n",
    "    last_sentence = answer.split('answer is')[-1]\n",
    "    matches = re.findall(r\"\\([A-D]\\)\", last_sentence)\n",
    "    chosen_option_2 = \"\"\n",
    "    if matches:\n",
    "        chosen_option_2 = matches[0][1]\n",
    "    if medqa_test[index]['answer_idx'] == chosen_option_2:\n",
    "        temp[index] = 1\n",
    "    else:\n",
    "        temp[index] = 0\n",
    "print(sum(temp) / len(temp))"
   ]
  },
  {
   "cell_type": "code",
   "execution_count": null,
   "metadata": {},
   "outputs": [],
   "source": []
  },
  {
   "cell_type": "code",
   "execution_count": 108,
   "metadata": {},
   "outputs": [],
   "source": [
    "chatgpt_prompts = []\n",
    "for index, test in enumerate(medqa_test):\n",
    "    context = \"\"\n",
    "    for ith in range(25):\n",
    "        context+=rankeddoc[index][ith]\n",
    "        context+=\"\\n\"\n",
    "    chatgpt_prompts.append(encode_question_gen(context, test['question'], '(A) ' + test['options']['A'] + ' (B) ' + test['options']['B'] + ' (C) ' + test['options']['C'] + ' (D) ' + test['options']['D'], ))"
   ]
  },
  {
   "cell_type": "code",
   "execution_count": 109,
   "metadata": {},
   "outputs": [
    {
     "name": "stderr",
     "output_type": "stream",
     "text": [
      "100%|██████████| 50/50 [00:09<00:00,  5.42it/s]\n"
     ]
    }
   ],
   "source": [
    "result_1 = generate_responses_in_parallel(chatgpt_prompts)"
   ]
  },
  {
   "cell_type": "code",
   "execution_count": 110,
   "metadata": {},
   "outputs": [
    {
     "name": "stdout",
     "output_type": "stream",
     "text": [
      "0.82\n"
     ]
    }
   ],
   "source": [
    "correctedness = {}\n",
    "temp = [0]*50\n",
    "for index, answer in enumerate(result_1):\n",
    "    last_sentence = answer.split('answer is')[-1]\n",
    "    matches = re.findall(r\"\\([A-D]\\)\", last_sentence)\n",
    "    chosen_option_2 = \"\"\n",
    "    if matches:\n",
    "        chosen_option_2 = matches[0][1]\n",
    "    if medqa_test[index]['answer_idx'] == chosen_option_2:\n",
    "        temp[index] = 1\n",
    "    else:\n",
    "        temp[index] = 0\n",
    "print(sum(temp) / len(temp))\n",
    "correctedness[\"reranked_16\"] = temp "
   ]
  },
  {
   "cell_type": "code",
   "execution_count": 111,
   "metadata": {},
   "outputs": [
    {
     "name": "stdout",
     "output_type": "stream",
     "text": [
      "To determine the pattern of inheritance for the disorder presented in the case of the 15-year-old boy, we can analyze the information provided:\n",
      "\n",
      "1. **Patient Presentation**: The boy is experiencing extreme fatigue and shortness of breath, with a significantly low hemoglobin level (5 g/dL) and an enlarged spleen. These symptoms suggest a form of anemia.\n",
      "\n",
      "2. **Family History**: The father and aunt both have mild anemia, indicating a potential hereditary component to the condition.\n",
      "\n",
      "3. **Recovery**: The patient recovers over two weeks, with hemoglobin levels rising to 11 g/dL, which suggests that the anemia may be acute and possibly related to a transient condition rather than a chronic genetic disorder.\n",
      "\n",
      "4. **Inheritance Patterns**:\n",
      "   - **Autosomal Dominant**: Typically, this would show a clear pattern of inheritance in every generation, which is not indicated here.\n",
      "   - **X-linked Recessive**: This would primarily affect males, and females would be carriers. The family history does not strongly suggest this pattern since both the father and aunt have anemia.\n",
      "   - **X-linked Dominant**: This would affect both males and females, but again, the family history does not strongly support this.\n",
      "   - **Multifactorial**: This pattern involves multiple genes and environmental factors contributing to the condition, which could explain the mild anemia in the father and aunt without a clear Mendelian inheritance pattern.\n",
      "\n",
      "Given the acute nature of the boy's anemia, the family history of mild anemia, and the lack of a clear Mendelian inheritance pattern, the most fitting option is:\n",
      "\n",
      "(D) Multifactorial\n",
      "\n",
      "Thus, the answer is (D) Multifactorial.\n"
     ]
    }
   ],
   "source": [
    "print(result_1[13])"
   ]
  },
  {
   "cell_type": "code",
   "execution_count": 104,
   "metadata": {},
   "outputs": [
    {
     "name": "stdout",
     "output_type": "stream",
     "text": [
      "To determine the pattern of inheritance for the patient's underlying disorder, we can analyze the information provided:\n",
      "\n",
      "1. **Patient's Symptoms**: The 15-year-old boy presents with extreme fatigue, shortness of breath, pallor, and splenomegaly. His hemoglobin level is critically low at 5 g/dL, indicating a severe anemia.\n",
      "\n",
      "2. **Family History**: The father and aunt both suffer from mild anemia, suggesting a hereditary component to the condition.\n",
      "\n",
      "3. **Recovery**: The patient recovers over two weeks, with hemoglobin rising to 11 g/dL, which indicates that the anemia may be acute and possibly related to a transient condition rather than a chronic genetic disorder.\n",
      "\n",
      "4. **Peripheral Blood Smear**: While the specific details of the blood smear are not provided, the context suggests that it may show features consistent with a hereditary anemia, such as hereditary spherocytosis or another type of hemolytic anemia.\n",
      "\n",
      "5. **Inheritance Patterns**:\n",
      "   - **Autosomal Dominant**: Typically, this would show a clear pattern of inheritance in every generation, which may not be the case here since only the father and aunt are affected.\n",
      "   - **X-linked Recessive**: This would usually affect males more severely and would not typically show a pattern of affected females unless they are carriers.\n",
      "   - **X-linked Dominant**: This would also show a pattern of affected females and could affect males, but the family history does not strongly support this.\n",
      "   - **Multifactorial**: This could explain a condition influenced by multiple genetic and environmental factors, but it does not fit the clear hereditary pattern suggested by the family history.\n",
      "\n",
      "Given the family history of anemia and the symptoms presented, the most likely pattern of inheritance for this condition is **autosomal dominant**, as it aligns with the presence of affected family members and the nature of the disorder.\n",
      "\n",
      "Thus, the best option that represents the pattern of inheritance of this patient's underlying disorder is:\n",
      "\n",
      "the answer is (A) Autosomal dominant\n"
     ]
    }
   ],
   "source": [
    "print(result_1[13])"
   ]
  },
  {
   "cell_type": "code",
   "execution_count": 99,
   "metadata": {},
   "outputs": [
    {
     "name": "stdout",
     "output_type": "stream",
     "text": [
      "To determine the pattern of inheritance for the disorder presented in the case of the 15-year-old boy, we can analyze the information provided:\n",
      "\n",
      "1. **Patient Presentation**: The boy is experiencing extreme fatigue and shortness of breath, with a hemoglobin level of 5 g/dL, indicating severe anemia. His spleen is enlarged, which can be associated with certain types of anemia.\n",
      "\n",
      "2. **Family History**: The father and aunt both suffer from mild anemia, suggesting a hereditary component to the condition.\n",
      "\n",
      "3. **Recovery**: The patient recovers over two weeks, with his hemoglobin rising to 11 g/dL, indicating that the anemia may be acute and possibly related to a transient condition rather than a chronic genetic disorder.\n",
      "\n",
      "4. **Types of Inheritance**:\n",
      "   - **Autosomal Dominant**: Typically, this would show a clear pattern in multiple generations, which is not strongly indicated here.\n",
      "   - **X-linked Recessive**: This usually affects males more severely and is passed from carrier mothers to affected sons. There is no indication of this pattern in the family history.\n",
      "   - **X-linked Dominant**: This would also show a pattern of affected females passing the disorder to their offspring, which is not evident here.\n",
      "   - **Multifactorial**: This involves multiple genes and environmental factors contributing to the condition, which could explain the mild anemia in the father and aunt without a clear Mendelian pattern.\n",
      "\n",
      "5. **Conclusion**: Given the acute nature of the anemia, the family history of mild anemia, and the lack of a clear Mendelian inheritance pattern, the most fitting option is multifactorial inheritance. This suggests that the condition may arise from a combination of genetic predisposition and environmental factors.\n",
      "\n",
      "Thus, the best representation of the pattern of inheritance for this patient's underlying disorder is:\n",
      "\n",
      "the answer is (D) Multifactorial\n"
     ]
    }
   ],
   "source": [
    "print(result_1[13])"
   ]
  },
  {
   "cell_type": "code",
   "execution_count": 113,
   "metadata": {},
   "outputs": [
    {
     "name": "stdout",
     "output_type": "stream",
     "text": [
      "Causes of Sickle Cell Disease. SCD is caused by mutations in the hemoglobin beta (HBB) gene and is inherited as an autosomal recessive trait. Genetic diseases are determined by two genes, one received from the father and one from the mother. Recessive genetic disorders occur when an individual inherits the same altered gene for the same trait from each parent. If an individual receives one normal gene and one gene for the disease, the person will be a carrier for the disease, but usually will not show symptoms\n",
      "InternalMed_Harrison. On the other hand, allelic variants may reflect mutations that clearly alter the function of a gene product. The common Glu6Val (E6V) sickle cell mutation in the β-globin gene and the ΔF508 deletion of phenylalanine (F) in the CFTR gene are examples of allelic variants of these genes that result in disease. Because each individual has two copies of each chromosome (one inherited from the mother and one inherited from the father), he or she can have only two alleles at a given locus\n",
      "Causes of Hereditary Coproporphyria. Dominant genetic disorders occur when only a single copy of an abnormal gene is necessary for the appearance of the disease. The abnormal gene can be inherited from either parent, or can be the result of a new mutation (gene change) in the affected individual. The risk of passing the abnormal gene from affected parent to offspring is 50% for each pregnancy regardless of the sex of the resulting child.Genes provide instructions for creating proteins that play a critical role in many functions of the body\n",
      "Causes of Anemia, Pernicious. Recessive genetic disorders occur when an individual inherits the same abnormal gene for the same trait from each parent.  If an individual receives one normal gene and one gene for the disease, the person will be a carrier for the disease, but usually will not show symptoms.  The risk for two carrier parents to both pass the defective gene and, therefore, have an affected child is 25% with each pregnancy.  The risk to have a child who is a carrier like the parents is 50% with each pregnancy\n",
      "Causes of Classic Hereditary Hemochromatosis. If an individual receives one normal gene and one gene for the disease, the person will be a carrier for the disease, but usually will not show symptoms. The risk for two carrier parents to both pass the defective gene and, therefore, have an affected child is 25 percent with each pregnancy. The risk to have a child who is a carrier like the parents is 50 percent with each pregnancy\n",
      "Hereditary spherocytosis. The combination of two tests; mean corpuscular hemoglobin concentration (MCHC) and erythrocyte distribution width are an excellent screening tests for hereditary spherocytosis. For young patients with the disease, a full family history, complete blood count (CBC), reticulocyte count and examination of peripheral blood smear on each parent and sibling is required to determine whether the spherocytic mutation is dominant or recessive\n",
      "Causes of Alpha Thalassemia. Depending upon the functions of the protein, this can affect many organ systems of the body.Genetic diseases are determined by the combination of genes for a particular trait that are on the chromosomes received from the father and the mother. Investigators have determined that the HBA1 and the HBA2 genes are located on the short arm (p) of chromosome 16 (16p13.3). Chromosomes, which are present in the nucleus of human cells, carry the genetic information for each individual\n",
      "Causes of Sickle Cell Disease. The risk for two carrier parents to both pass the altered gene and, therefore, have an affected child is 25% with each pregnancy. The risk to have a child who is a carrier like the parents is 50% with each pregnancy. The chance for a child to receive normal genes from both parents and be genetically normal for that particular trait is 25%.In SCD this is more complicated. People who receive the sickle mutation from each parent (S/S) have the disease\n",
      "Dominance relationship. The chances of an autosomal dominant disorder being inherited are 50% if one parent is heterozygous for the mutant gene and the other is homozygous for the normal, or 'wild-type', gene. This is because the offspring will always inherit a normal gene from the parent carrying the wild-type genes, and will have a 50% chance of inheriting the mutant gene from the other parent. If the mutant gene is inherited, the offspring will be heterozygous for the mutant gene, and will suffer from the disorder\n",
      "InternalMed_Harrison. Hemoglobinopathies are autosomal codominant traits—thus, compound heterozygotes who inherit a different abnormal mutant allele from each parent exhibit composite features of each. For example, patients inheriting sickle β thalassemia exhibit features of β thalassemia and sickle cell anemia. The α chain is present in HbA, HbA2, and HbF; α-chain mutations thus cause abnormalities in all three\n",
      "Causes of Atypical Hemolytic Uremic Syndrome. The risk of passing the abnormal gene from an affected parent to an offspring is 50% for each pregnancy. The risk is the same for males and females.Recessive genetic disorders occur when an individual inherits two copies of an abnormal gene for the same trait, one from each parent. If an individual inherits one normal gene and one gene for the disease, the person will be a carrier for the disease but usually will not show symptoms\n",
      "Causes of Fanconi Anemia. Recessive genetic disorders occur when an individual inherits two copies of an abnormal gene for the same trait, one from each parent. If an individual inherits one normal gene and one gene for the disease, the person will be a carrier for the disease but usually will not show symptoms. The risk for two carrier parents to both pass the altered gene and have an affected child is 25% with each pregnancy. The risk to have a child who is a carrier like the parents is 50% with each pregnancy\n",
      "Causes of Mulvihill-Smith Syndrome. The possibility that the disease may be inherited (autosomal recessive inheritance) has been suggested in one scientific paper. Autosomal recessive diseases occur when the affected individual inherits two abnormal copies of the gene, one from each parent. It is also possible that the disease is both autosomal recessive and spontaneous, with one mutation inherited from one parent and the other mutation arising spontaneously\n",
      "Causes of Hereditary Coproporphyria. The CPOX gene mutation that predisposes individuals to developing HCP is inherited as an autosomal dominant trait. Genetic diseases are determined by the combination of genes for a particular trait that are on the chromosomes received from the father and the mother. Dominant genetic disorders occur when only a single copy of an abnormal gene is necessary for the appearance of the disease\n",
      "InternalMed_Harrison. However, there can be many different alleles in the population. The normal or common allele is usually referred to as wild type. When alleles at a given locus are identical, the individual is homozygous. Inheriting identical copies of a mutant allele occurs in many autosomal recessive disorders, particularly in circumstances of consanguinity or isolated populations. If the alleles are different on the maternal and the paternal copy of the gene, the individual is heterozygous at this locus (Fig. 82-10)\n",
      "Contrast Agent Toxicity -- Epidemiology. Gadolinium contrast material has even lower adverse effects compared to low osmolar agents used for CT. One study showed an adverse effect for 0.04% of the doses. [8] Of these effects, approximately 90% were nausea, vomiting, and a mild rash that were managed with observation and diphenhydramine alone\n",
      "Contrast Agent Toxicity -- Pathophysiology. Much like its epidemiology, the pathophysiology of CIN remains incompletely understood. Many mechanisms of kidney injury have been postulated to be the source of acute tubular necrosis (ATN) following contrast exposure\n",
      "Causes of Fanconi Anemia. Female carriers of an X-linked disorder have a 25% chance with each pregnancy to have a carrier daughter like themselves, a 25% chance to have a non-carrier daughter, a 25% chance to have a son affected with the disease and a 25% chance to have an unaffected son. If a male with an X-linked disorder is able to reproduce, he will pass the altered gene to all of his daughters who will be carriers\n",
      "Causes of Anemia, Pernicious.  The risk to have a child who is a carrier like the parents is 50% with each pregnancy.  The chance for a child to receive normal genes from both parents and be genetically normal for that particular trait is 25%.  The risk is the same for males and females.  All individuals carry a few abnormal genes\n",
      "Histology, Cell -- Histochemistry and Cytochemistry. Radiography and X-rays help to visualize the pattern of the positioning of radioactively labeled isotopes in cells and tissues. Immunochemical techniques employ the use of specifically labeled antibodies to visualize anatomical structures and their localization based on the specific protein or antigen in cells to the specific primary antibody. Overall, cytochemistry of the cell implies to detection and identification of the biochemical content within a cell\n",
      "The 1000 Genomes Project. Few cases have been reported, where disease-causing mutations appear at the high frequencies supported by balanced selection. The most prominent example is mutations of the G6PD locus where, if homozygous G6PD enzyme deficiency and consequently sickle-cell anaemia results, but in the heterozygous state are partially protective against malaria\n",
      "Related disorders of Hereditary Spherocytosis. Severe anemia can cause serious, even life-threatening complications if left untreated. Affected individuals are treated by regular blood transfusions. Because of repeated blood transfusions individuals with beta thalassemia major and intermedia may develop excess levels of iron in the body (iron overload). Iron overload can cause a variety of symptoms affecting multiple systems of the body, but can be treated with medications. Beta thalassemia is caused by mutations in the hemoglobin beta (HBB) gene\n",
      "Hereditary spherocytosis. Hereditary spherocytosis is a genetically transmitted form of hemolysis, characterized by hemolytic anemia, jaundice and splenomegaly. It was first described by Vanlair and Masius in 1871, where they described chronically icteric patients who had no bile in urine, no evidence of liver disease and often splenomegaly and family history of jaundice\n",
      "Tay-Sachs disease. A continuing controversy is whether heterozygotes, individuals who are carriers of one copy of the gene but do not actually develop the disease, have some selective advantage. The classic case of heterozygote advantage in humans is sickle cell anemia, and some researchers have argued that there must be some evolutionary benefit to being a heterozygote for Tay-Sachs as well.\n",
      "Four different theories have been proposed to explain the high frequency of Tay-Sachs carriers in the Ashkenazi Jewish population:\n",
      "Diagnosis of Hereditary Spherocytosis. This test can tell how much the red blood cells are damaged but may not identify very mild cases.Clinical Testing and Work-UpThe initial evaluation for HS involves a physical examination, a discussion of family history, and the laboratory tests described above on blood samples. Genetic testing is not needed to diagnose HS but can provide more information about the diagnosis and the chance that offspring will have HS\n",
      "\n"
     ]
    }
   ],
   "source": [
    "context = \"\"\n",
    "for i in range(25):\n",
    "    context += rankeddoc[13][i]\n",
    "    context += '\\n'\n",
    "print(context)"
   ]
  },
  {
   "cell_type": "code",
   "execution_count": 98,
   "metadata": {},
   "outputs": [
    {
     "name": "stdout",
     "output_type": "stream",
     "text": [
      "3\n",
      "4\n",
      "9\n",
      "11\n",
      "13\n",
      "15\n",
      "30\n",
      "31\n",
      "38\n",
      "43\n",
      "46\n"
     ]
    }
   ],
   "source": [
    "for ith, i in enumerate(temp):\n",
    "    if i == 0:\n",
    "        print(ith)\n"
   ]
  },
  {
   "cell_type": "code",
   "execution_count": 127,
   "metadata": {},
   "outputs": [
    {
     "name": "stdout",
     "output_type": "stream",
     "text": [
      "1\n",
      "3\n",
      "9\n",
      "13\n",
      "15\n",
      "30\n",
      "31\n",
      "34\n",
      "38\n",
      "43\n",
      "44\n",
      "46\n"
     ]
    }
   ],
   "source": [
    "for ith, i in enumerate(temp):\n",
    "    if i == 0:\n",
    "        print(ith)\n"
   ]
  },
  {
   "cell_type": "code",
   "execution_count": 117,
   "metadata": {},
   "outputs": [
    {
     "name": "stdout",
     "output_type": "stream",
     "text": [
      "13\n",
      "15\n",
      "30\n",
      "38\n",
      "43\n",
      "46\n"
     ]
    }
   ],
   "source": [
    "for ith, i in enumerate(temp):\n",
    "    if i == 0:\n",
    "        print(ith)\n"
   ]
  },
  {
   "cell_type": "code",
   "execution_count": 114,
   "metadata": {},
   "outputs": [
    {
     "name": "stdout",
     "output_type": "stream",
     "text": [
      "Here is the relevant document:\n",
      "Causes of Sickle Cell Disease. SCD is caused by mutations in the hemoglobin beta (HBB) gene and is inherited as an autosomal recessive trait. Genetic diseases are determined by two genes, one received from the father and one from the mother. Recessive genetic disorders occur when an individual inherits the same altered gene for the same trait from each parent. If an individual receives one normal gene and one gene for the disease, the person will be a carrier for the disease, but usually will not show symptoms\n",
      "InternalMed_Harrison. On the other hand, allelic variants may reflect mutations that clearly alter the function of a gene product. The common Glu6Val (E6V) sickle cell mutation in the β-globin gene and the ΔF508 deletion of phenylalanine (F) in the CFTR gene are examples of allelic variants of these genes that result in disease. Because each individual has two copies of each chromosome (one inherited from the mother and one inherited from the father), he or she can have only two alleles at a given locus\n",
      "Causes of Hereditary Coproporphyria. Dominant genetic disorders occur when only a single copy of an abnormal gene is necessary for the appearance of the disease. The abnormal gene can be inherited from either parent, or can be the result of a new mutation (gene change) in the affected individual. The risk of passing the abnormal gene from affected parent to offspring is 50% for each pregnancy regardless of the sex of the resulting child.Genes provide instructions for creating proteins that play a critical role in many functions of the body\n",
      "Causes of Anemia, Pernicious. Recessive genetic disorders occur when an individual inherits the same abnormal gene for the same trait from each parent.  If an individual receives one normal gene and one gene for the disease, the person will be a carrier for the disease, but usually will not show symptoms.  The risk for two carrier parents to both pass the defective gene and, therefore, have an affected child is 25% with each pregnancy.  The risk to have a child who is a carrier like the parents is 50% with each pregnancy\n",
      "Causes of Classic Hereditary Hemochromatosis. If an individual receives one normal gene and one gene for the disease, the person will be a carrier for the disease, but usually will not show symptoms. The risk for two carrier parents to both pass the defective gene and, therefore, have an affected child is 25 percent with each pregnancy. The risk to have a child who is a carrier like the parents is 50 percent with each pregnancy\n",
      "Hereditary spherocytosis. The combination of two tests; mean corpuscular hemoglobin concentration (MCHC) and erythrocyte distribution width are an excellent screening tests for hereditary spherocytosis. For young patients with the disease, a full family history, complete blood count (CBC), reticulocyte count and examination of peripheral blood smear on each parent and sibling is required to determine whether the spherocytic mutation is dominant or recessive\n",
      "Causes of Alpha Thalassemia. Depending upon the functions of the protein, this can affect many organ systems of the body.Genetic diseases are determined by the combination of genes for a particular trait that are on the chromosomes received from the father and the mother. Investigators have determined that the HBA1 and the HBA2 genes are located on the short arm (p) of chromosome 16 (16p13.3). Chromosomes, which are present in the nucleus of human cells, carry the genetic information for each individual\n",
      "Causes of Sickle Cell Disease. The risk for two carrier parents to both pass the altered gene and, therefore, have an affected child is 25% with each pregnancy. The risk to have a child who is a carrier like the parents is 50% with each pregnancy. The chance for a child to receive normal genes from both parents and be genetically normal for that particular trait is 25%.In SCD this is more complicated. People who receive the sickle mutation from each parent (S/S) have the disease\n",
      "Dominance relationship. The chances of an autosomal dominant disorder being inherited are 50% if one parent is heterozygous for the mutant gene and the other is homozygous for the normal, or 'wild-type', gene. This is because the offspring will always inherit a normal gene from the parent carrying the wild-type genes, and will have a 50% chance of inheriting the mutant gene from the other parent. If the mutant gene is inherited, the offspring will be heterozygous for the mutant gene, and will suffer from the disorder\n",
      "InternalMed_Harrison. Hemoglobinopathies are autosomal codominant traits—thus, compound heterozygotes who inherit a different abnormal mutant allele from each parent exhibit composite features of each. For example, patients inheriting sickle β thalassemia exhibit features of β thalassemia and sickle cell anemia. The α chain is present in HbA, HbA2, and HbF; α-chain mutations thus cause abnormalities in all three\n",
      "Causes of Atypical Hemolytic Uremic Syndrome. The risk of passing the abnormal gene from an affected parent to an offspring is 50% for each pregnancy. The risk is the same for males and females.Recessive genetic disorders occur when an individual inherits two copies of an abnormal gene for the same trait, one from each parent. If an individual inherits one normal gene and one gene for the disease, the person will be a carrier for the disease but usually will not show symptoms\n",
      "Causes of Fanconi Anemia. Recessive genetic disorders occur when an individual inherits two copies of an abnormal gene for the same trait, one from each parent. If an individual inherits one normal gene and one gene for the disease, the person will be a carrier for the disease but usually will not show symptoms. The risk for two carrier parents to both pass the altered gene and have an affected child is 25% with each pregnancy. The risk to have a child who is a carrier like the parents is 50% with each pregnancy\n",
      "Causes of Mulvihill-Smith Syndrome. The possibility that the disease may be inherited (autosomal recessive inheritance) has been suggested in one scientific paper. Autosomal recessive diseases occur when the affected individual inherits two abnormal copies of the gene, one from each parent. It is also possible that the disease is both autosomal recessive and spontaneous, with one mutation inherited from one parent and the other mutation arising spontaneously\n",
      "Causes of Hereditary Coproporphyria. The CPOX gene mutation that predisposes individuals to developing HCP is inherited as an autosomal dominant trait. Genetic diseases are determined by the combination of genes for a particular trait that are on the chromosomes received from the father and the mother. Dominant genetic disorders occur when only a single copy of an abnormal gene is necessary for the appearance of the disease\n",
      "InternalMed_Harrison. However, there can be many different alleles in the population. The normal or common allele is usually referred to as wild type. When alleles at a given locus are identical, the individual is homozygous. Inheriting identical copies of a mutant allele occurs in many autosomal recessive disorders, particularly in circumstances of consanguinity or isolated populations. If the alleles are different on the maternal and the paternal copy of the gene, the individual is heterozygous at this locus (Fig. 82-10)\n",
      "Contrast Agent Toxicity -- Epidemiology. Gadolinium contrast material has even lower adverse effects compared to low osmolar agents used for CT. One study showed an adverse effect for 0.04% of the doses. [8] Of these effects, approximately 90% were nausea, vomiting, and a mild rash that were managed with observation and diphenhydramine alone\n",
      "Contrast Agent Toxicity -- Pathophysiology. Much like its epidemiology, the pathophysiology of CIN remains incompletely understood. Many mechanisms of kidney injury have been postulated to be the source of acute tubular necrosis (ATN) following contrast exposure\n",
      "Causes of Fanconi Anemia. Female carriers of an X-linked disorder have a 25% chance with each pregnancy to have a carrier daughter like themselves, a 25% chance to have a non-carrier daughter, a 25% chance to have a son affected with the disease and a 25% chance to have an unaffected son. If a male with an X-linked disorder is able to reproduce, he will pass the altered gene to all of his daughters who will be carriers\n",
      "Causes of Anemia, Pernicious.  The risk to have a child who is a carrier like the parents is 50% with each pregnancy.  The chance for a child to receive normal genes from both parents and be genetically normal for that particular trait is 25%.  The risk is the same for males and females.  All individuals carry a few abnormal genes\n",
      "Histology, Cell -- Histochemistry and Cytochemistry. Radiography and X-rays help to visualize the pattern of the positioning of radioactively labeled isotopes in cells and tissues. Immunochemical techniques employ the use of specifically labeled antibodies to visualize anatomical structures and their localization based on the specific protein or antigen in cells to the specific primary antibody. Overall, cytochemistry of the cell implies to detection and identification of the biochemical content within a cell\n",
      "The 1000 Genomes Project. Few cases have been reported, where disease-causing mutations appear at the high frequencies supported by balanced selection. The most prominent example is mutations of the G6PD locus where, if homozygous G6PD enzyme deficiency and consequently sickle-cell anaemia results, but in the heterozygous state are partially protective against malaria\n",
      "Related disorders of Hereditary Spherocytosis. Severe anemia can cause serious, even life-threatening complications if left untreated. Affected individuals are treated by regular blood transfusions. Because of repeated blood transfusions individuals with beta thalassemia major and intermedia may develop excess levels of iron in the body (iron overload). Iron overload can cause a variety of symptoms affecting multiple systems of the body, but can be treated with medications. Beta thalassemia is caused by mutations in the hemoglobin beta (HBB) gene\n",
      "Hereditary spherocytosis. Hereditary spherocytosis is a genetically transmitted form of hemolysis, characterized by hemolytic anemia, jaundice and splenomegaly. It was first described by Vanlair and Masius in 1871, where they described chronically icteric patients who had no bile in urine, no evidence of liver disease and often splenomegaly and family history of jaundice\n",
      "Tay-Sachs disease. A continuing controversy is whether heterozygotes, individuals who are carriers of one copy of the gene but do not actually develop the disease, have some selective advantage. The classic case of heterozygote advantage in humans is sickle cell anemia, and some researchers have argued that there must be some evolutionary benefit to being a heterozygote for Tay-Sachs as well.\n",
      "Four different theories have been proposed to explain the high frequency of Tay-Sachs carriers in the Ashkenazi Jewish population:\n",
      "Diagnosis of Hereditary Spherocytosis. This test can tell how much the red blood cells are damaged but may not identify very mild cases.Clinical Testing and Work-UpThe initial evaluation for HS involves a physical examination, a discussion of family history, and the laboratory tests described above on blood samples. Genetic testing is not needed to diagnose HS but can provide more information about the diagnosis and the chance that offspring will have HS\n",
      "\n",
      "\n",
      "Here is the question:\n",
      "An otherwise healthy 15-year-old boy presents to the emergency department with extreme fatigue and shortness of breath. His temperature is 36.5°C (97.7°F), the blood pressure is 100/60 mm Hg and the pulse is 100/min. Past medical history is noncontributory and he takes no medication. His father and aunt both suffer from mild anemia. On examination, he is very pale and his spleen is enlarged. His hemoglobin is 5 g/dL and platelet count is slightly reduced. His peripheral blood smear is shown in the picture. Over the next 2 weeks, the patient recovers, and his hemoglobin is 11 g/dL. Which of the following best represents the pattern of inheritance of this patient underlying disorder?\n",
      "\n",
      "Here are the options:\n",
      "(A) Autosomal dominant (B) X-linked recessive (C) X-linked dominant (D) Multifactorial\n",
      "\n",
      "Please think step-by-step and generate your output.\n",
      "\n"
     ]
    }
   ],
   "source": [
    "print(chatgpt_prompts[13][1]['content'])"
   ]
  },
  {
   "cell_type": "code",
   "execution_count": 44,
   "metadata": {},
   "outputs": [
    {
     "name": "stdout",
     "output_type": "stream",
     "text": [
      "Here is the relevant document:\n",
      "clinical practice guidelines. acquiring HSV-2); - importance of abstaining from sexual activity with uninfected partners when lesions or prodromal symptoms are present; - effectiveness of daily use of valacyclovir in reducing risk for transmission of HSV-2, and the lack of effectiveness of episodic or suppressive therapy in persons with HIV and HSV infection in reducing risk for transmission to partners who might be at risk for HSV-2 acquisition; - effectiveness of male latex condoms, which when used consistently and correctly can\n",
      "clinical practice guidelines. provider (for a patient reporting a history of or presenting with an atypical case, a mild case, or both, health-care providers should seek either an epidemiologic link to a typical varicella case or to a laboratory-confirmed case or evidence of laboratory confirmation, if it was performed at the time of acute disease); 4) history of herpes zoster based on health-care provider diagnosis or verification of herpes zoster by a health-care provider; or 5) laboratory evidence of immunity or laboratory\n",
      "Prostaglandin E1 -- Enhancing Healthcare Team Outcomes. Finally, because dosing may require titration, the healthcare team may need to adjust the dose repeatedly to obtain the most effective dose. Though the efficacy appears to be dose-dependent, the recommended maximum dosages should not be surpassed. Nursing can play a vital role in monitoring patient compliance, administration technique, and watching for adverse events. The pharmacist should also perform complete medication reconciliation and report back to the rest of the healthcare team.\n",
      "Acyclovir (patient information). # Why this medication is prescribed\n",
      "Succinylcholine Chloride -- Adverse Effects. If hyperkalemia is sufficient to create electrocardiography changes, clinicians should avoid using succinylcholine in such circumstances. Special consideration is also necessary for those with chronically elevated potassium levels, such as renal failure patients, to not induce acute on chronic hyperkalemia. Succinylcholine should be avoided in patients with significant burns or traumatic injuries that are 24 to 72 hours post-injury due to the high probability of acute hyperkalemia that may become\n",
      "Acyclovir (patient information). # How this medicine should be used\n",
      "clinical practice guidelines. In addition to PHN, zoster is associated with a variety of other complication. Among persons with zoster, 10%-25% have eye involvement, called herpes zoster ophthalmicus (HZO) (38,39) (Figure 2). HZO can occur when reactiva tion involves the nasociliary branch of the trigeminal nerve, sometimes preceded by the presence of zoster vesicles on the nose (Hutchinson sign). Keratitis occurs in approxi mately two thirds of patients with HZO (40), often caus ing corneal ulceration\n",
      "clinical practice guidelines. because of differing assumptions regarding the risk for PHN Costs associated with acute zoster have been evaluated. and of complications resulting from zoster. Estimated health-Among patients with acute episodes of zoster, average care use per case of zoster ranges from 1.3-3.1 for the num-expenditures ranged from $112-$287 per episode of out ber of outpatient visits, 0.005-0.12 for the number of patient care, $73-$180 per antiviral treatment, and\n",
      "Escherichia coli (e Coli 0157 H7) -- Deterrence and Patient Education. Ample evidence suggests that personal hygiene, particularly handwashing, effectively prevents infectious acquisition and spread of E. coli 0157:H7 infections in the community, thereby altering the risk of HUS. Public health education, guidelines, and legislation to safeguard food and water against Shiga toxin enterohemorrhagic E. coli food and water contamination and to ensure safe food production, preparation, and storage of food will benefit society as a whole\n",
      "InternalMed_Harrison. Herpes zoster occurs in a single dermatome; the appearance of vesicles is preceded by pain for several days. Zoster may occur in persons of any age but is most common among immunosuppressed individuals and elderly patients, whereas most cases of varicella occur in young children. Vesicles due to HSV are found on or around the\n",
      "\n",
      "\n",
      "Here is the question:\n",
      "A previously healthy 24-year-old man comes to the physician 1 day after the onset of burning pain, swelling, and multiple blisters over the left index finger. He works as a dental assistant and is concerned about not being able to work. The patient wonders if the symptoms might be related to a hunting trip he returned from 1 week ago because he remembers seeing a lot of poison oak. He is sexually active with one female partner, and they do not use condoms. His father has a history of thromboangiitis obliterans. He has smoked one pack of cigarettes daily for 5 years. He drinks two to four beers on social occasions. Vital signs are within normal limits. Physical examination shows swelling and erythema of the pulp space of the left index finger; there are multiple 3-mm vesicles. Laboratory studies show a leukocyte count of 12,000 cells/mm3. In addition to supportive therapy, which of the following is the most appropriate next step in management?\n",
      "\n",
      "Here are the options:\n",
      "(A) Oral acyclovir (B) Oral cephalexin (C) Smoking cessation (D) Washing thoroughly\n",
      "\"\n",
      "\n",
      "Please think step-by-step and generate your output.\n",
      "\n"
     ]
    }
   ],
   "source": [
    "print(chatgpt_prompts[10][1]['content'])"
   ]
  },
  {
   "cell_type": "code",
   "execution_count": 40,
   "metadata": {},
   "outputs": [
    {
     "name": "stdout",
     "output_type": "stream",
     "text": [
      "3\n",
      "9\n",
      "10\n",
      "11\n",
      "13\n",
      "15\n",
      "22\n",
      "29\n",
      "30\n",
      "31\n",
      "38\n",
      "43\n",
      "46\n"
     ]
    }
   ],
   "source": [
    "for ith, i in enumerate(temp):\n",
    "    if i == 0:\n",
    "        print(ith)\n"
   ]
  },
  {
   "cell_type": "code",
   "execution_count": 15,
   "metadata": {},
   "outputs": [
    {
     "name": "stdout",
     "output_type": "stream",
     "text": [
      "data: [\"[{'id': 5, 'distance': 0.05801853910088539, 'entity': {'text': 'DDR1 is involved in cancers and fibrosis.', 'subject': 'biology'}}]\"] \n"
     ]
    }
   ],
   "source": [
    "res = client.search(\n",
    "    collection_name=\"demo_collection\",  # target collection\n",
    "    data=query_vectors,  # query vectors\n",
    "    limit=2,  # number of returned entities\n",
    "    output_fields=[\"text\", \"subject\"],  # specifies fields to be returned\n",
    ")\n",
    "\n",
    "\n",
    "res = client.search(\n",
    "    collection_name=\"demo_collection\",\n",
    "    data=embedding_fn.encode_queries([\"tell me AI related information\"]),\n",
    "    filter=\"subject == 'biology'\",\n",
    "    limit=2,\n",
    "    output_fields=[\"text\", \"subject\"],\n",
    ")"
   ]
  }
 ],
 "metadata": {
  "kernelspec": {
   "display_name": "yale",
   "language": "python",
   "name": "python3"
  },
  "language_info": {
   "codemirror_mode": {
    "name": "ipython",
    "version": 3
   },
   "file_extension": ".py",
   "mimetype": "text/x-python",
   "name": "python",
   "nbconvert_exporter": "python",
   "pygments_lexer": "ipython3",
   "version": "3.9.19"
  }
 },
 "nbformat": 4,
 "nbformat_minor": 2
}

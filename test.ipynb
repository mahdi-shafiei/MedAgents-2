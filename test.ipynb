{
 "cells": [
  {
   "cell_type": "code",
   "execution_count": 2,
   "metadata": {},
   "outputs": [
    {
     "ename": "NameError",
     "evalue": "name 'ChatCompletionMessageToolCall' is not defined",
     "output_type": "error",
     "traceback": [
      "\u001b[0;31m---------------------------------------------------------------------------\u001b[0m",
      "\u001b[0;31mNameError\u001b[0m                                 Traceback (most recent call last)",
      "Cell \u001b[0;32mIn[2], line 1\u001b[0m\n\u001b[0;32m----> 1\u001b[0m hello \u001b[38;5;241m=\u001b[39m tool_calls\u001b[38;5;241m=\u001b[39m[\u001b[43mChatCompletionMessageToolCall\u001b[49m(\u001b[38;5;28mid\u001b[39m\u001b[38;5;241m=\u001b[39m\u001b[38;5;124m'\u001b[39m\u001b[38;5;124mcall_qEIKUGw32Y0uYcUTs3pRnhJf\u001b[39m\u001b[38;5;124m'\u001b[39m, function\u001b[38;5;241m=\u001b[39mFunction(arguments\u001b[38;5;241m=\u001b[39m\u001b[38;5;124m'\u001b[39m\u001b[38;5;124m{\u001b[39m\u001b[38;5;124m\"\u001b[39m\u001b[38;5;124mquery\u001b[39m\u001b[38;5;124m\"\u001b[39m\u001b[38;5;124m: \u001b[39m\u001b[38;5;124m\"\u001b[39m\u001b[38;5;124mhistological findings in peptic ulcer disease\u001b[39m\u001b[38;5;124m\"\u001b[39m\u001b[38;5;124m, \u001b[39m\u001b[38;5;124m\"\u001b[39m\u001b[38;5;124moptions\u001b[39m\u001b[38;5;124m\"\u001b[39m\u001b[38;5;124m: \u001b[39m\u001b[38;5;124m{\u001b[39m\u001b[38;5;124m\"\u001b[39m\u001b[38;5;124mrewrite\u001b[39m\u001b[38;5;124m\"\u001b[39m\u001b[38;5;124m: false}}\u001b[39m\u001b[38;5;124m'\u001b[39m, name\u001b[38;5;241m=\u001b[39m\u001b[38;5;124m'\u001b[39m\u001b[38;5;124msearch_medical_knowledge\u001b[39m\u001b[38;5;124m'\u001b[39m), \u001b[38;5;28mtype\u001b[39m\u001b[38;5;241m=\u001b[39m\u001b[38;5;124m'\u001b[39m\u001b[38;5;124mfunction\u001b[39m\u001b[38;5;124m'\u001b[39m), ChatCompletionMessageToolCall(\u001b[38;5;28mid\u001b[39m\u001b[38;5;241m=\u001b[39m\u001b[38;5;124m'\u001b[39m\u001b[38;5;124mcall_PTYlBmV4UOVHRe5n7nWAgIr8\u001b[39m\u001b[38;5;124m'\u001b[39m, function\u001b[38;5;241m=\u001b[39mFunction(arguments\u001b[38;5;241m=\u001b[39m\u001b[38;5;124m'\u001b[39m\u001b[38;5;124m{\u001b[39m\u001b[38;5;124m\"\u001b[39m\u001b[38;5;124mquery\u001b[39m\u001b[38;5;124m\"\u001b[39m\u001b[38;5;124m: \u001b[39m\u001b[38;5;124m\"\u001b[39m\u001b[38;5;124mdifferential diagnosis for abdominal pain with positive stool guaiac test\u001b[39m\u001b[38;5;124m\"\u001b[39m\u001b[38;5;124m, \u001b[39m\u001b[38;5;124m\"\u001b[39m\u001b[38;5;124moptions\u001b[39m\u001b[38;5;124m\"\u001b[39m\u001b[38;5;124m: \u001b[39m\u001b[38;5;124m{\u001b[39m\u001b[38;5;124m\"\u001b[39m\u001b[38;5;124mrewrite\u001b[39m\u001b[38;5;124m\"\u001b[39m\u001b[38;5;124m: false}}\u001b[39m\u001b[38;5;124m'\u001b[39m, name\u001b[38;5;241m=\u001b[39m\u001b[38;5;124m'\u001b[39m\u001b[38;5;124msearch_medical_knowledge\u001b[39m\u001b[38;5;124m'\u001b[39m), \u001b[38;5;28mtype\u001b[39m\u001b[38;5;241m=\u001b[39m\u001b[38;5;124m'\u001b[39m\u001b[38;5;124mfunction\u001b[39m\u001b[38;5;124m'\u001b[39m), ChatCompletionMessageToolCall(\u001b[38;5;28mid\u001b[39m\u001b[38;5;241m=\u001b[39m\u001b[38;5;124m'\u001b[39m\u001b[38;5;124mcall_oMv85rNh7uH7HNMGRc7sFrvf\u001b[39m\u001b[38;5;124m'\u001b[39m, function\u001b[38;5;241m=\u001b[39mFunction(arguments\u001b[38;5;241m=\u001b[39m\u001b[38;5;124m'\u001b[39m\u001b[38;5;124m{\u001b[39m\u001b[38;5;124m\"\u001b[39m\u001b[38;5;124mquery\u001b[39m\u001b[38;5;124m\"\u001b[39m\u001b[38;5;124m: \u001b[39m\u001b[38;5;124m\"\u001b[39m\u001b[38;5;124mmanagement of peptic ulcer disease\u001b[39m\u001b[38;5;124m\"\u001b[39m\u001b[38;5;124m, \u001b[39m\u001b[38;5;124m\"\u001b[39m\u001b[38;5;124moptions\u001b[39m\u001b[38;5;124m\"\u001b[39m\u001b[38;5;124m: \u001b[39m\u001b[38;5;124m{\u001b[39m\u001b[38;5;124m\"\u001b[39m\u001b[38;5;124mrewrite\u001b[39m\u001b[38;5;124m\"\u001b[39m\u001b[38;5;124m: false}}\u001b[39m\u001b[38;5;124m'\u001b[39m, name\u001b[38;5;241m=\u001b[39m\u001b[38;5;124m'\u001b[39m\u001b[38;5;124msearch_medical_knowledge\u001b[39m\u001b[38;5;124m'\u001b[39m), \u001b[38;5;28mtype\u001b[39m\u001b[38;5;241m=\u001b[39m\u001b[38;5;124m'\u001b[39m\u001b[38;5;124mfunction\u001b[39m\u001b[38;5;124m'\u001b[39m)]\n",
      "\u001b[0;31mNameError\u001b[0m: name 'ChatCompletionMessageToolCall' is not defined"
     ]
    }
   ],
   "source": [
    "hello = tool_calls=[\n",
    "    ChatCompletionMessageToolCall(id='call_qEIKUGw32Y0uYcUTs3pRnhJf', function=Function(arguments='{\"query\": \"histological findings in peptic ulcer disease\", \"options\": {\"rewrite\": false}}', name='search_medical_knowledge'), type='function'), \n",
    "    ChatCompletionMessageToolCall(id='call_PTYlBmV4UOVHRe5n7nWAgIr8', function=Function(arguments='{\"query\": \"differential diagnosis for abdominal pain with positive stool guaiac test\", \"options\": {\"rewrite\": false}}', name='search_medical_knowledge'), type='function'), \n",
    "    ChatCompletionMessageToolCall(id='call_oMv85rNh7uH7HNMGRc7sFrvf', function=Function(arguments='{\"query\": \"management of peptic ulcer disease\", \"options\": {\"rewrite\": false}}', name='search_medical_knowledge'), type='function')\n",
    "    ]"
   ]
  },
  {
   "cell_type": "code",
   "execution_count": null,
   "metadata": {},
   "outputs": [],
   "source": []
  },
  {
   "cell_type": "code",
   "execution_count": 1,
   "metadata": {},
   "outputs": [
    {
     "ename": "NameError",
     "evalue": "name 'ChatCompletionMessage' is not defined",
     "output_type": "error",
     "traceback": [
      "\u001b[0;31m---------------------------------------------------------------------------\u001b[0m",
      "\u001b[0;31mNameError\u001b[0m                                 Traceback (most recent call last)",
      "Cell \u001b[0;32mIn[1], line 1\u001b[0m\n\u001b[0;32m----> 1\u001b[0m hello \u001b[38;5;241m=\u001b[39m \u001b[43mChatCompletionMessage\u001b[49m(content\u001b[38;5;241m=\u001b[39m\u001b[38;5;28;01mNone\u001b[39;00m, refusal\u001b[38;5;241m=\u001b[39m\u001b[38;5;28;01mNone\u001b[39;00m, role\u001b[38;5;241m=\u001b[39m\u001b[38;5;124m'\u001b[39m\u001b[38;5;124massistant\u001b[39m\u001b[38;5;124m'\u001b[39m, audio\u001b[38;5;241m=\u001b[39m\u001b[38;5;28;01mNone\u001b[39;00m, function_call\u001b[38;5;241m=\u001b[39m\u001b[38;5;28;01mNone\u001b[39;00m, tool_calls\u001b[38;5;241m=\u001b[39m[ChatCompletionMessageToolCall(\u001b[38;5;28mid\u001b[39m\u001b[38;5;241m=\u001b[39m\u001b[38;5;124m'\u001b[39m\u001b[38;5;124mcall_qEIKUGw32Y0uYcUTs3pRnhJf\u001b[39m\u001b[38;5;124m'\u001b[39m, function\u001b[38;5;241m=\u001b[39mFunction(arguments\u001b[38;5;241m=\u001b[39m\u001b[38;5;124m'\u001b[39m\u001b[38;5;124m{\u001b[39m\u001b[38;5;124m\"\u001b[39m\u001b[38;5;124mquery\u001b[39m\u001b[38;5;124m\"\u001b[39m\u001b[38;5;124m: \u001b[39m\u001b[38;5;124m\"\u001b[39m\u001b[38;5;124mhistological findings in peptic ulcer disease\u001b[39m\u001b[38;5;124m\"\u001b[39m\u001b[38;5;124m, \u001b[39m\u001b[38;5;124m\"\u001b[39m\u001b[38;5;124moptions\u001b[39m\u001b[38;5;124m\"\u001b[39m\u001b[38;5;124m: \u001b[39m\u001b[38;5;124m{\u001b[39m\u001b[38;5;124m\"\u001b[39m\u001b[38;5;124mrewrite\u001b[39m\u001b[38;5;124m\"\u001b[39m\u001b[38;5;124m: false}}\u001b[39m\u001b[38;5;124m'\u001b[39m, name\u001b[38;5;241m=\u001b[39m\u001b[38;5;124m'\u001b[39m\u001b[38;5;124msearch_medical_knowledge\u001b[39m\u001b[38;5;124m'\u001b[39m), \u001b[38;5;28mtype\u001b[39m\u001b[38;5;241m=\u001b[39m\u001b[38;5;124m'\u001b[39m\u001b[38;5;124mfunction\u001b[39m\u001b[38;5;124m'\u001b[39m), ChatCompletionMessageToolCall(\u001b[38;5;28mid\u001b[39m\u001b[38;5;241m=\u001b[39m\u001b[38;5;124m'\u001b[39m\u001b[38;5;124mcall_PTYlBmV4UOVHRe5n7nWAgIr8\u001b[39m\u001b[38;5;124m'\u001b[39m, function\u001b[38;5;241m=\u001b[39mFunction(arguments\u001b[38;5;241m=\u001b[39m\u001b[38;5;124m'\u001b[39m\u001b[38;5;124m{\u001b[39m\u001b[38;5;124m\"\u001b[39m\u001b[38;5;124mquery\u001b[39m\u001b[38;5;124m\"\u001b[39m\u001b[38;5;124m: \u001b[39m\u001b[38;5;124m\"\u001b[39m\u001b[38;5;124mdifferential diagnosis for abdominal pain with positive stool guaiac test\u001b[39m\u001b[38;5;124m\"\u001b[39m\u001b[38;5;124m, \u001b[39m\u001b[38;5;124m\"\u001b[39m\u001b[38;5;124moptions\u001b[39m\u001b[38;5;124m\"\u001b[39m\u001b[38;5;124m: \u001b[39m\u001b[38;5;124m{\u001b[39m\u001b[38;5;124m\"\u001b[39m\u001b[38;5;124mrewrite\u001b[39m\u001b[38;5;124m\"\u001b[39m\u001b[38;5;124m: false}}\u001b[39m\u001b[38;5;124m'\u001b[39m, name\u001b[38;5;241m=\u001b[39m\u001b[38;5;124m'\u001b[39m\u001b[38;5;124msearch_medical_knowledge\u001b[39m\u001b[38;5;124m'\u001b[39m), \u001b[38;5;28mtype\u001b[39m\u001b[38;5;241m=\u001b[39m\u001b[38;5;124m'\u001b[39m\u001b[38;5;124mfunction\u001b[39m\u001b[38;5;124m'\u001b[39m), ChatCompletionMessageToolCall(\u001b[38;5;28mid\u001b[39m\u001b[38;5;241m=\u001b[39m\u001b[38;5;124m'\u001b[39m\u001b[38;5;124mcall_oMv85rNh7uH7HNMGRc7sFrvf\u001b[39m\u001b[38;5;124m'\u001b[39m, function\u001b[38;5;241m=\u001b[39mFunction(arguments\u001b[38;5;241m=\u001b[39m\u001b[38;5;124m'\u001b[39m\u001b[38;5;124m{\u001b[39m\u001b[38;5;124m\"\u001b[39m\u001b[38;5;124mquery\u001b[39m\u001b[38;5;124m\"\u001b[39m\u001b[38;5;124m: \u001b[39m\u001b[38;5;124m\"\u001b[39m\u001b[38;5;124mmanagement of peptic ulcer disease\u001b[39m\u001b[38;5;124m\"\u001b[39m\u001b[38;5;124m, \u001b[39m\u001b[38;5;124m\"\u001b[39m\u001b[38;5;124moptions\u001b[39m\u001b[38;5;124m\"\u001b[39m\u001b[38;5;124m: \u001b[39m\u001b[38;5;124m{\u001b[39m\u001b[38;5;124m\"\u001b[39m\u001b[38;5;124mrewrite\u001b[39m\u001b[38;5;124m\"\u001b[39m\u001b[38;5;124m: false}}\u001b[39m\u001b[38;5;124m'\u001b[39m, name\u001b[38;5;241m=\u001b[39m\u001b[38;5;124m'\u001b[39m\u001b[38;5;124msearch_medical_knowledge\u001b[39m\u001b[38;5;124m'\u001b[39m), \u001b[38;5;28mtype\u001b[39m\u001b[38;5;241m=\u001b[39m\u001b[38;5;124m'\u001b[39m\u001b[38;5;124mfunction\u001b[39m\u001b[38;5;124m'\u001b[39m)])\n",
      "\u001b[0;31mNameError\u001b[0m: name 'ChatCompletionMessage' is not defined"
     ]
    }
   ],
   "source": [
    "hello = ChatCompletionMessage(content=None, refusal=None, role='assistant', audio=None, function_call=None, )"
   ]
  },
  {
   "cell_type": "code",
   "execution_count": null,
   "metadata": {},
   "outputs": [],
   "source": []
  },
  {
   "cell_type": "code",
   "execution_count": null,
   "metadata": {},
   "outputs": [],
   "source": []
  },
  {
   "cell_type": "code",
   "execution_count": 1,
   "metadata": {},
   "outputs": [
    {
     "name": "stdout",
     "output_type": "stream",
     "text": [
      "Formatted Query:\n",
      "A 45-year-old woman presents with fatigue, weight gain, and cold intolerance. Laboratory tests reveal elevated TSH and low free T4. What is the most likely diagnosis?\n",
      "\n",
      "(A) Hyperthyroidism\n",
      "(B) Hypothyroidism\n",
      "(C) Adrenal insufficiency\n",
      "(D) Diabetes mellitus\n",
      "\n"
     ]
    }
   ],
   "source": [
    "\n",
    "import os\n",
    "import json\n",
    "from typing import List, Dict\n",
    "from openai import AzureOpenAI\n",
    "from pymilvus import MilvusClient\n",
    "from retriever import MedCPTRetriever\n",
    "from dotenv import load_dotenv\n",
    "\n",
    "# Load environment variables\n",
    "load_dotenv()\n",
    "\n",
    "# Initialize clients\n",
    "retrieval_client = MilvusClient(uri=os.getenv(\"MILVUS_URI\"))\n",
    "# Initialize the retriever\n",
    "retriever = MedCPTRetriever()\n",
    "\n",
    "# Sample medical question\n",
    "question = \"A 45-year-old woman presents with fatigue, weight gain, and cold intolerance. Laboratory tests reveal elevated TSH and low free T4. What is the most likely diagnosis?\"\n",
    "choices = {\n",
    "    \"A\": \"Hyperthyroidism\",\n",
    "    \"B\": \"Hypothyroidism\",\n",
    "    \"C\": \"Adrenal insufficiency\",\n",
    "    \"D\": \"Diabetes mellitus\"\n",
    "}\n",
    "\n",
    "# Format the question with choices\n",
    "def format_question(question: str, options: Dict[str, str]) -> str:\n",
    "    text = f\"{question}\\n\\n\"\n",
    "    for choice, option in options.items():\n",
    "        text += f\"({choice}) {option}\\n\"\n",
    "    return text\n",
    "\n",
    "formatted_query = format_question(question, choices)\n",
    "print(\"Formatted Query:\")\n",
    "print(formatted_query)\n",
    "\n",
    "# Define allowed source"
   ]
  },
  {
   "cell_type": "code",
   "execution_count": 3,
   "metadata": {},
   "outputs": [],
   "source": [
    "from typing import List\n",
    "import time\n",
    "\n",
    "def retrieve_and_rerank(query: str, retrieval_client, allowed_sources: List[str] = ['cpg', 'recop', 'textbooks', 'statpearls'], topk: int = 100, rerank_topk: int = 25) -> List[str]:\n",
    "    # Time retrieval\n",
    "    start_time = time.time()\n",
    "    retrieved_docs = retriever.retrieve_filtered_sources(\n",
    "        query,\n",
    "        retrieval_client,\n",
    "        allowed_sources,\n",
    "        topk=100\n",
    "    )\n",
    "    retrieval_time = time.time() - start_time\n",
    "    print(f\"Retrieval time: {retrieval_time:.2f} seconds\")\n",
    "    \n",
    "    # Time reranking\n",
    "    start_time = time.time()\n",
    "    reranked_docs = retriever.rerank(\n",
    "        query,\n",
    "        retrieved_docs,\n",
    "    )\n",
    "    rerank_time = time.time() - start_time\n",
    "    print(f\"Reranking time: {rerank_time:.2f} seconds\")\n",
    "    \n",
    "    return reranked_docs[:rerank_topk]\n"
   ]
  },
  {
   "cell_type": "code",
   "execution_count": 5,
   "metadata": {},
   "outputs": [
    {
     "name": "stdout",
     "output_type": "stream",
     "text": [
      "Retrieval time: 1.66 seconds\n",
      "Reranking time: 17.88 seconds\n",
      "['Early and locally advanced breast cancer: diagnosis and management. # Diagnostic assessment and adjuvant therapy planning', 'Early and locally advanced breast cancer: diagnosis and management. # Follow-up', 'Early and locally advanced breast cancer: diagnosis and management. Return to recommendations', 'Diagnosis and treatment of early breast cancer, including locally advanced disease—summary of NICE guidance. ## Follow-up', 'Lobular Breast Carcinoma -- Enhancing Healthcare Team Outcomes. After the treatment of invasive lobular breast carcinoma, long-term\\xa0follow up is crucial to detect local and distant relapse.\\xa0The primary care provider and NP must refer patients with any breast lump to an oncologist for further workup. All health professionals must coordinate their actions to enhance the management of patients with invasive lobular carcinoma.', 'Early and locally advanced breast cancer: diagnosis and management. ## Clinical follow-up\\nEnsure all people who have had treatment for breast cancer have an agreed, written care plan, recorded in their notes by a named healthcare professional (or professionals) from the multidisciplinary team. Give a copy to the person and to their GP. The plan should include:\\ndesignated named healthcare professionals\\ndates for review of any adjuvant therapy\\ndetails of surveillance mammography\\nsigns and symptoms to look out for and seek advice on', 'Summary version of the standards, options and recommendations for nonmetastatic breast cancer (updated January 2001). Adjuvant chemotherapy improves progression-free survival and overall survival in patients with node-positive breast cancer and in certain patients without node involvement. Premenopausal women seem to benefit more than menopausal women. Doxorubicin, epirubicin, 5-FU, cyclophosphamide and methotrexate used in combination every 3 -4 weeks, with a maximum of six cycles, is the reference treatment. The optimal number of cycles (four to six cycles) is unknown. Chemotherapy should be started promptly', 'InternalMed_Harrison. More than 90% of patients with locally advanced breast cancer show a partial or better response to multidrug chemotherapy regimens that include an anthracycline. Early administration of this treatment reduces the bulk of the disease and frequently makes the patient a suitable candidate for salvage surgery and/or radiation therapy. These patients should be managed in multimodality clinics to coordinate surgery, radiation therapy, and systemic chemotherapy', 'Obstentrics_Williams. Chemotherapy is usually given with both positive-and negative-node breast cancers. In premenopausal women, survival rates with this approach are improved, even if lymph nodes are cancer free. For node-positive disease, multiagent chemotherapy is begun if delivery is not anticipated within several weeks. Cyclophosphamide, doxorubicin, and cisplatin are currently used (Euhus, 2016)', \"Breast Ductal Carcinoma in Situ -- Treatment / Management. Treatment for ductal carcinoma in situ is multimodal and involves a combination of surgery, radiation therapy, and hormone therapy that is personalized to the patient's specific diagnosis and preferences.\", 'Breast Cancer Surgery -- Clinical Significance. Surveillance guidelines following cure involve at least annual mammography to assess for local recurrence or contralateral breast cancers.\\xa0The timing of initiation is generally six months after radiation therapy is completed. If the patient is receiving semiannual screening, current guidelines recommend returning to annual surveillance after two years. [16]', 'Summary version of the standards, options and recommendations for nonmetastatic breast cancer (updated January 2001). Clinical examination should be performed 4 months after treatment to assess treatment toxicity (standard). Clinical followup should then be repeated every 6 months for 5 years and then yearly for 10 years (standard). Routine follow-up should be continued after 10 years, but the timing can be adjusted depending on the risk of local recurrence (option). An annual mammogram should be performed starting 6 months after treatment (standard)', 'Diagnosis and treatment of early breast cancer, including locally advanced disease—summary of NICE guidance. ## Diagnosis and preoperative assessment', 'Summary version of the standards, options and recommendations for nonmetastatic breast cancer (updated January 2001). As the efficacy of additional chemotherapy is unknown, this should only be considered in the Standard follow-up [fig_ref] Figure 1: Diagnosis -clinically detectable breast abnormality [/fig_ref] Standard follow-up [fig_ref] Figure 1: Diagnosis -clinically detectable breast abnormality [/fig_ref] Standard follow-up [fig_ref] Figure 1: Diagnosis -clinically detectable breast abnormality [/fig_ref] *ER+ve, presence of oestrogen receptors. *ER+ve, presence of oestrogen receptors', 'Surgery_Schwartz. A PET-CT scan should be considered at the time of diagnosis to rule out concurrent metastatic disease. A report of the SEER program described distant metastases at diagnosis in 25% of white women with inflammatory breast carcinoma.Surgery alone and surgery with adjuvant radiation therapy have produced disappointing results in women with inflamma-tory breast cancer. However, neoadjuvant chemotherapy with an anthracycline-containing regimen may affect dramatic regres-sions in up to 75% of cases', 'Radiation Therapy for Early-Stage Breast Cancer -- Treatment / Management. Treatment for\\xa0ductal\\xa0carcinoma in situ\\xa0(Stage 0) is individualized based on clinical and pathological features and patient preference. Typically, patients with\\xa0ductal\\xa0carcinoma in situ\\xa0are treated with lumpectomy. Radiation therapy is recommended to reduce the risk of local breast recurrence', 'The requirements of a specialist breast centre. Follow-up information on all patients treated with radiation therapy must be collected, even if patients are treated and/or followed-up outside the breast centre.', 'The requirements of a specialist breast centre. Breast medical oncologists must supervise systemic therapy and all decision-making processes for its use. Follow-up information on all patients treated with systemic therapy must be collected, even if patients are treated outside the breast centre.', 'Summary version of the standards, options and recommendations for nonmetastatic breast cancer (updated January 2001). An annual mammogram should be performed starting 6 months after treatment (standard). Breast cancer after modified radical mastectomy 2nd decision step yes no Presence of risk factors for local recurrence?', 'Summary version of the standards, options and recommendations for nonmetastatic breast cancer (updated January 2001). If primary radiotherapy or medical treatment is performed, locoregional control must be obtained (recommendation, level of evidence: A) [fig_ref] Figure 1: Diagnosis -clinically detectable breast abnormality [/fig_ref].A preliminary biopsy can be performed to assess the prognostic factors that are necessary to guide locoregional and adjuvant treatment (recommendation, expert agreement)', \"Breast Ductal Carcinoma in Situ -- Evaluation. One must determine if the patient is suitable for breast conservation by evaluation if the patient has a contraindication to post-surgical radiation therapy, such as pregnancy or previous radiation therapy. Information regarding the patient's preferences and ability to follow-up for subsequent treatments with radiation therapy should also be elicited.\", 'Diagnosis and treatment of early breast cancer, including locally advanced disease—summary of NICE guidance. ## Endocrine therapy in invasive disease', 'Medullary Breast Carcinoma -- Enhancing Healthcare Team Outcomes. After the treatment of medullary breast carcinoma, long-term\\xa0follow up is necessary to detect local and distant relapse.\\xa0The primary care provider and nurse practitioner must refer patients with suspected breast masses to a radiologist for further workup.', 'Surgery_Schwartz. Once a diagnosis of breast cancer is made, the type of therapy offered to a breast cancer patient is determined by the stage of the disease, the biologic subtype, and the general health status of the individual. Laboratory tests and imaging studies are performed based on the initial stage as presented in Table 17-13. Before therapy is initiated, the patient and the sur-geon must share a clear perspective on the planned course of treatment', 'Diagnosis and treatment of early breast cancer, including locally advanced disease—summary of NICE guidance. ## Further information on the guidance']\n"
     ]
    }
   ],
   "source": [
    "print(retrieve_and_rerank(\"A 54-year-old woman is diagnosed with locally-advanced invasive ductal adenocarcinoma of the breast. She undergoes surgical resection, radiation therapy, and is now being started on adjunctive chemotherapy with cyclophosphamide and doxorubicin. The patient is scheduled for follow up by her primary care provider. Which of the following tests should be performed regularly to monitor her current treatment regimen?\", retrieval_client, ['cpg', 'recop', 'textbooks', 'statpearls'], 100, 25))\n"
   ]
  },
  {
   "cell_type": "code",
   "execution_count": null,
   "metadata": {},
   "outputs": [],
   "source": []
  },
  {
   "cell_type": "code",
   "execution_count": 2,
   "metadata": {},
   "outputs": [
    {
     "name": "stdout",
     "output_type": "stream",
     "text": [
      "\n",
      "Retrieved 350 documents\n",
      "\n",
      "Top 5 Documents after Reranking:\n",
      "\n",
      "Document 1:\n",
      "InternalMed_Harrison. Endocrine Disorders Fatigue, sometimes in association with true muscle weakness, can be a heralding symptom of hypothyroidism, particularly in the context of hair loss, dry skin, cold intolerance, constipation, and weight gain. Fatigue in association with heat intolerance, swea...\n",
      "\n",
      "Document 2:\n",
      "Physiology, Thyroid Function -- Pathophysiology. Hypothyroidism is an endocrine disorder with resultant under-production of thyroid hormone. Common symptoms of hypothyroidism include cold intolerance and weight gain due to decreased basal metabolic rate and thermogenesis, depression, fatigue, decrea...\n",
      "\n",
      "Document 3:\n",
      "Thyrotoxicosis -- Differential Diagnosis. Most patients will present with symptoms of fatigue, palpitations, weight loss, diaphoresis, heat intolerance. These patients are generally stable for outpatient workup for the underlying etiology.  A careful history and physical exam can aid in the diagnosi...\n",
      "\n",
      "Document 4:\n",
      "Symptoms of PHACE Syndrome. Hypothyroidism may be present at birth or may be acquired during infancy or childhood and is characterized by poor growth (growth deficiency). Other signs of hypothyroidism can include weakness, fatigue, cold intolerance, and weight gain. Hypopituitarism is characterized ...\n",
      "\n",
      "Document 5:\n",
      "First_Aid_Step2. Presents with weakness, fatigue, cold intolerance, constipation, weight gain, depression, menstrual irregularities, and hoarseness. Exam may reveal dry, cold, puffy skin accompanied by edema, bradycardia, and delayed relaxation of DTRs.\n",
      "\n",
      "See Table 2.3-3.\n",
      "\n",
      "Uncomplicated hypothyroidis...\n"
     ]
    }
   ],
   "source": [
    "import time\n",
    "\n",
    "allowed_sources = ['cpg', 'recop', 'textbooks', 'statpearls']\n",
    "\n",
    "# Retrieve documents\n",
    "try:\n",
    "    # Retrieve documents with filtering by source\n",
    "    retrieved_docs = retriever.retrieve_filtered_sources(\n",
    "        formatted_query,\n",
    "        retrieval_client,\n",
    "        allowed_sources,\n",
    "        topk=100\n",
    "    )\n",
    "    \n",
    "    print(f\"\\nRetrieved {len(retrieved_docs)} documents\")\n",
    "    \n",
    "    # Rerank the documents\n",
    "    reranked_docs = retriever.rerank(\n",
    "        formatted_query,\n",
    "        retrieved_docs,\n",
    "    )    \n",
    "    \n",
    "    # Get top 5 documents after reranking\n",
    "    top_docs = reranked_docs[:5]\n",
    "    \n",
    "    print(\"\\nTop 5 Documents after Reranking:\")\n",
    "    for i, doc in enumerate(top_docs):\n",
    "        print(f\"\\nDocument {i+1}:\")\n",
    "        print(f\"{doc[:300]}...\")  # Print first 300 characters of each document\n",
    "    \n",
    "except Exception as e:\n",
    "    print(f\"Error during retrieval: {e}\")\n"
   ]
  },
  {
   "cell_type": "code",
   "execution_count": null,
   "metadata": {},
   "outputs": [],
   "source": []
  },
  {
   "cell_type": "code",
   "execution_count": 2,
   "metadata": {},
   "outputs": [
    {
     "data": {
      "text/plain": [
       "['cpg', 'recop', 'textbooks', 'statpearls']"
      ]
     },
     "execution_count": 2,
     "metadata": {},
     "output_type": "execute_result"
    }
   ],
   "source": [
    "retrieval_client.list_collections()"
   ]
  },
  {
   "cell_type": "code",
   "execution_count": null,
   "metadata": {},
   "outputs": [],
   "source": [
    "# Delete all collections in Milvus\n",
    "try:\n",
    "    collections = retrieval_client.list_collections()\n",
    "    print(\"Deleting the following collections:\")\n",
    "    for collection in collections:\n",
    "        print(f\"- {collection}\")\n",
    "        try:\n",
    "            retrieval_client.drop_collection(collection)\n",
    "            print(f\"Successfully deleted collection: {collection}\")\n",
    "        except Exception as e:\n",
    "            print(f\"Error deleting collection '{collection}': {e}\")\n",
    "    \n",
    "    # Verify collections were deleted\n",
    "    remaining_collections = retrieval_client.list_collections()\n",
    "    if remaining_collections:\n",
    "        print(f\"\\nRemaining collections: {remaining_collections}\")\n",
    "    else:\n",
    "        print(\"\\nAll collections have been successfully deleted.\")\n",
    "except Exception as e:\n",
    "    print(f\"Error during collection deletion process: {e}\")\n"
   ]
  },
  {
   "cell_type": "code",
   "execution_count": null,
   "metadata": {},
   "outputs": [],
   "source": []
  },
  {
   "cell_type": "code",
   "execution_count": null,
   "metadata": {},
   "outputs": [],
   "source": []
  },
  {
   "cell_type": "code",
   "execution_count": null,
   "metadata": {},
   "outputs": [],
   "source": []
  },
  {
   "cell_type": "code",
   "execution_count": null,
   "metadata": {},
   "outputs": [],
   "source": []
  },
  {
   "cell_type": "code",
   "execution_count": null,
   "metadata": {},
   "outputs": [],
   "source": []
  },
  {
   "cell_type": "code",
   "execution_count": 4,
   "metadata": {},
   "outputs": [
    {
     "name": "stdout",
     "output_type": "stream",
     "text": [
      "\n",
      "Available Milvus Collections:\n",
      "- textbooks_2\n",
      "- statpearls_2\n",
      "- cpg_2\n",
      "- recop_2\n",
      "\n",
      "Collection Details:\n",
      "Error getting details for collection 'textbooks_2': 'MilvusClient' object has no attribute 'count_entities'\n",
      "Error getting details for collection 'statpearls_2': 'MilvusClient' object has no attribute 'count_entities'\n",
      "Error getting details for collection 'cpg_2': 'MilvusClient' object has no attribute 'count_entities'\n",
      "Error getting details for collection 'recop_2': 'MilvusClient' object has no attribute 'count_entities'\n"
     ]
    }
   ],
   "source": [
    "# Check what Milvus collections are available\n",
    "try:\n",
    "    # List all collections in Milvus\n",
    "    collections = retrieval_client.list_collections()\n",
    "    print(\"\\nAvailable Milvus Collections:\")\n",
    "    for collection in collections:\n",
    "        print(f\"- {collection}\")\n",
    "    \n",
    "    # Get more details about each collection\n",
    "    print(\"\\nCollection Details:\")\n",
    "    for collection in collections:\n",
    "        try:\n",
    "            # Load the collection to get information\n",
    "            retrieval_client.load_collection(collection)\n",
    "            stats = retrieval_client.get_collection_stats(collection)\n",
    "            entity_count = retrieval_client.count_entities(collection)\n",
    "            print(f\"\\nCollection: {collection}\")\n",
    "            print(f\"Entity Count: {entity_count}\")\n",
    "            print(f\"Stats: {stats}\")\n",
    "        except Exception as e:\n",
    "            print(f\"Error getting details for collection '{collection}': {e}\")\n",
    "        finally:\n",
    "            # Release the collection\n",
    "            retrieval_client.release_collection(collection)\n",
    "            \n",
    "except Exception as e:\n",
    "    print(f\"Error listing collections: {e}\")\n"
   ]
  }
 ],
 "metadata": {
  "kernelspec": {
   "display_name": "venv",
   "language": "python",
   "name": "python3"
  },
  "language_info": {
   "codemirror_mode": {
    "name": "ipython",
    "version": 3
   },
   "file_extension": ".py",
   "mimetype": "text/x-python",
   "name": "python",
   "nbconvert_exporter": "python",
   "pygments_lexer": "ipython3",
   "version": "3.12.3"
  }
 },
 "nbformat": 4,
 "nbformat_minor": 2
}

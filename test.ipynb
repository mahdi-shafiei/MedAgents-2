{
 "cells": [
  {
   "cell_type": "code",
   "execution_count": null,
   "metadata": {},
   "outputs": [
    {
     "name": "stdout",
     "output_type": "stream",
     "text": [
      "Formatted Query:\n",
      "A 45-year-old woman presents with fatigue, weight gain, and cold intolerance. Laboratory tests reveal elevated TSH and low free T4. What is the most likely diagnosis?\n",
      "\n",
      "(A) Hyperthyroidism\n",
      "(B) Hypothyroidism\n",
      "(C) Adrenal insufficiency\n",
      "(D) Diabetes mellitus\n",
      "\n",
      "\n",
      "Retrieved 100 documents\n",
      "\n",
      "Top 5 Documents after Reranking:\n",
      "\n",
      "Document 1:\n",
      "InternalMed_Harrison. Endocrine Disorders Fatigue, sometimes in association with true muscle weakness, can be a heralding symptom of hypothyroidism, particularly in the context of hair loss, dry skin, cold intolerance, constipation, and weight gain. Fatigue in association with heat intolerance, swea...\n",
      "\n",
      "Document 2:\n",
      "First_Aid_Step2. Presents with weakness, fatigue, cold intolerance, constipation, weight gain, depression, menstrual irregularities, and hoarseness. Exam may reveal dry, cold, puffy skin accompanied by edema, bradycardia, and delayed relaxation of DTRs.\n",
      "\n",
      "See Table 2.3-3.\n",
      "\n",
      "Uncomplicated hypothyroidis...\n",
      "\n",
      "Document 3:\n",
      "InternalMed_Harrison. Fatigue in association with heat intolerance, sweating, and palpitations is typical of hyperthyroidism. Adrenal insufficiency can also manifest with unexplained fatigue as a primary or prominent symptom, often in association with anorexia, weight loss, nausea, myalgias, and art...\n",
      "\n",
      "Document 4:\n",
      "InternalMed_Harrison. In the elderly, features of thyrotoxicosis may be subtle or masked, and patients may present mainly with fatigue and weight loss, a condition known as apathetic thyrotoxicosis....\n",
      "\n",
      "Document 5:\n",
      "Gynecology_Novak. Patients with Hashimoto thyroiditis may present with typical symptoms of hypothyroidism or may be relatively asymptomatic. Patients often present with a goiter, which can involve the parietal lobe. At later stages of the disease, hypothyroidism can be found without a goiter. Notabl...\n"
     ]
    }
   ],
   "source": [
    "\n",
    "import os\n",
    "import json\n",
    "from typing import List, Dict\n",
    "from openai import AzureOpenAI\n",
    "from pymilvus import MilvusClient\n",
    "from retriever import MedCPTRetriever\n",
    "from dotenv import load_dotenv\n",
    "\n",
    "# Load environment variables\n",
    "load_dotenv()\n",
    "\n",
    "# Initialize clients\n",
    "retrieval_client = MilvusClient(uri=os.getenv(\"MILVUS_URI\"))\n",
    "# Initialize the retriever\n",
    "retriever = MedCPTRetriever()\n",
    "\n",
    "# Sample medical question\n",
    "question = \"A 45-year-old woman presents with fatigue, weight gain, and cold intolerance. Laboratory tests reveal elevated TSH and low free T4. What is the most likely diagnosis?\"\n",
    "choices = {\n",
    "    \"A\": \"Hyperthyroidism\",\n",
    "    \"B\": \"Hypothyroidism\",\n",
    "    \"C\": \"Adrenal insufficiency\",\n",
    "    \"D\": \"Diabetes mellitus\"\n",
    "}\n",
    "\n",
    "# Format the question with choices\n",
    "def format_question(question: str, options: Dict[str, str]) -> str:\n",
    "    text = f\"{question}\\n\\n\"\n",
    "    for choice, option in options.items():\n",
    "        text += f\"({choice}) {option}\\n\"\n",
    "    return text\n",
    "\n",
    "formatted_query = format_question(question, choices)\n",
    "print(\"Formatted Query:\")\n",
    "print(formatted_query)\n",
    "\n",
    "# Define allowed source"
   ]
  },
  {
   "cell_type": "code",
   "execution_count": 2,
   "metadata": {},
   "outputs": [
    {
     "name": "stdout",
     "output_type": "stream",
     "text": [
      "\n",
      "Retrieved 400 documents in 1.93 seconds\n",
      "Reranked documents in 25.25 seconds\n",
      "\n",
      "Top 5 Documents after Reranking:\n",
      "\n",
      "Document 1:\n",
      "InternalMed_Harrison. Endocrine Disorders Fatigue, sometimes in association with true muscle weakness, can be a heralding symptom of hypothyroidism, particularly in the context of hair loss, dry skin, cold intolerance, constipation, and weight gain. Fatigue in association with heat intolerance, swea...\n",
      "\n",
      "Document 2:\n",
      "Physiology, Thyroid Function -- Pathophysiology. Hypothyroidism is an endocrine disorder with resultant under-production of thyroid hormone. Common symptoms of hypothyroidism include cold intolerance and weight gain due to decreased basal metabolic rate and thermogenesis, depression, fatigue, decrea...\n",
      "\n",
      "Document 3:\n",
      "Thyrotoxicosis -- Differential Diagnosis. Most patients will present with symptoms of fatigue, palpitations, weight loss, diaphoresis, heat intolerance. These patients are generally stable for outpatient workup for the underlying etiology.  A careful history and physical exam can aid in the diagnosi...\n",
      "\n",
      "Document 4:\n",
      "Symptoms of PHACE Syndrome. Hypothyroidism may be present at birth or may be acquired during infancy or childhood and is characterized by poor growth (growth deficiency). Other signs of hypothyroidism can include weakness, fatigue, cold intolerance, and weight gain. Hypopituitarism is characterized ...\n",
      "\n",
      "Document 5:\n",
      "First_Aid_Step2. Presents with weakness, fatigue, cold intolerance, constipation, weight gain, depression, menstrual irregularities, and hoarseness. Exam may reveal dry, cold, puffy skin accompanied by edema, bradycardia, and delayed relaxation of DTRs.\n",
      "\n",
      "See Table 2.3-3.\n",
      "\n",
      "Uncomplicated hypothyroidis...\n"
     ]
    }
   ],
   "source": [
    "allowed_sources = ['cpg', 'recop', 'textbooks', 'statpearls']\n",
    "\n",
    "# Retrieve documents\n",
    "try:\n",
    "    # Retrieve documents with filtering by source\n",
    "    retrieved_docs = retriever.retrieve_filtered_sources(\n",
    "        formatted_query,\n",
    "        retrieval_client,\n",
    "        allowed_sources,\n",
    "        topk=100\n",
    "    )\n",
    "    \n",
    "    print(f\"\\nRetrieved {len(retrieved_docs)} documents\")\n",
    "    \n",
    "    # Rerank the documents\n",
    "    reranked_docs = retriever.rerank(\n",
    "        formatted_query,\n",
    "        retrieved_docs,\n",
    "    )\n",
    "    rerank_time = time.time() - start_rerank\n",
    "    \n",
    "    print(f\"Reranked documents in {rerank_time:.2f} seconds\")\n",
    "    \n",
    "    # Get top 5 documents after reranking\n",
    "    top_docs = reranked_docs[:5]\n",
    "    \n",
    "    print(\"\\nTop 5 Documents after Reranking:\")\n",
    "    for i, doc in enumerate(top_docs):\n",
    "        print(f\"\\nDocument {i+1}:\")\n",
    "        print(f\"{doc[:300]}...\")  # Print first 300 characters of each document\n",
    "    \n",
    "except Exception as e:\n",
    "    print(f\"Error during retrieval: {e}\")\n"
   ]
  },
  {
   "cell_type": "code",
   "execution_count": 2,
   "metadata": {},
   "outputs": [
    {
     "data": {
      "text/plain": [
       "['cpg', 'recop', 'textbooks', 'statpearls']"
      ]
     },
     "execution_count": 2,
     "metadata": {},
     "output_type": "execute_result"
    }
   ],
   "source": [
    "retrieval_client.list_collections()"
   ]
  },
  {
   "cell_type": "code",
   "execution_count": null,
   "metadata": {},
   "outputs": [],
   "source": [
    "# Delete all collections in Milvus\n",
    "try:\n",
    "    collections = retrieval_client.list_collections()\n",
    "    print(\"Deleting the following collections:\")\n",
    "    for collection in collections:\n",
    "        print(f\"- {collection}\")\n",
    "        try:\n",
    "            retrieval_client.drop_collection(collection)\n",
    "            print(f\"Successfully deleted collection: {collection}\")\n",
    "        except Exception as e:\n",
    "            print(f\"Error deleting collection '{collection}': {e}\")\n",
    "    \n",
    "    # Verify collections were deleted\n",
    "    remaining_collections = retrieval_client.list_collections()\n",
    "    if remaining_collections:\n",
    "        print(f\"\\nRemaining collections: {remaining_collections}\")\n",
    "    else:\n",
    "        print(\"\\nAll collections have been successfully deleted.\")\n",
    "except Exception as e:\n",
    "    print(f\"Error during collection deletion process: {e}\")\n"
   ]
  },
  {
   "cell_type": "code",
   "execution_count": null,
   "metadata": {},
   "outputs": [],
   "source": []
  },
  {
   "cell_type": "code",
   "execution_count": null,
   "metadata": {},
   "outputs": [],
   "source": []
  },
  {
   "cell_type": "code",
   "execution_count": null,
   "metadata": {},
   "outputs": [],
   "source": []
  },
  {
   "cell_type": "code",
   "execution_count": null,
   "metadata": {},
   "outputs": [],
   "source": []
  },
  {
   "cell_type": "code",
   "execution_count": null,
   "metadata": {},
   "outputs": [],
   "source": []
  },
  {
   "cell_type": "code",
   "execution_count": 4,
   "metadata": {},
   "outputs": [
    {
     "name": "stdout",
     "output_type": "stream",
     "text": [
      "\n",
      "Available Milvus Collections:\n",
      "- textbooks_2\n",
      "- statpearls_2\n",
      "- cpg_2\n",
      "- recop_2\n",
      "\n",
      "Collection Details:\n",
      "Error getting details for collection 'textbooks_2': 'MilvusClient' object has no attribute 'count_entities'\n",
      "Error getting details for collection 'statpearls_2': 'MilvusClient' object has no attribute 'count_entities'\n",
      "Error getting details for collection 'cpg_2': 'MilvusClient' object has no attribute 'count_entities'\n",
      "Error getting details for collection 'recop_2': 'MilvusClient' object has no attribute 'count_entities'\n"
     ]
    }
   ],
   "source": [
    "# Check what Milvus collections are available\n",
    "try:\n",
    "    # List all collections in Milvus\n",
    "    collections = retrieval_client.list_collections()\n",
    "    print(\"\\nAvailable Milvus Collections:\")\n",
    "    for collection in collections:\n",
    "        print(f\"- {collection}\")\n",
    "    \n",
    "    # Get more details about each collection\n",
    "    print(\"\\nCollection Details:\")\n",
    "    for collection in collections:\n",
    "        try:\n",
    "            # Load the collection to get information\n",
    "            retrieval_client.load_collection(collection)\n",
    "            stats = retrieval_client.get_collection_stats(collection)\n",
    "            entity_count = retrieval_client.count_entities(collection)\n",
    "            print(f\"\\nCollection: {collection}\")\n",
    "            print(f\"Entity Count: {entity_count}\")\n",
    "            print(f\"Stats: {stats}\")\n",
    "        except Exception as e:\n",
    "            print(f\"Error getting details for collection '{collection}': {e}\")\n",
    "        finally:\n",
    "            # Release the collection\n",
    "            retrieval_client.release_collection(collection)\n",
    "            \n",
    "except Exception as e:\n",
    "    print(f\"Error listing collections: {e}\")\n"
   ]
  }
 ],
 "metadata": {
  "kernelspec": {
   "display_name": "venv",
   "language": "python",
   "name": "python3"
  },
  "language_info": {
   "codemirror_mode": {
    "name": "ipython",
    "version": 3
   },
   "file_extension": ".py",
   "mimetype": "text/x-python",
   "name": "python",
   "nbconvert_exporter": "python",
   "pygments_lexer": "ipython3",
   "version": "3.12.3"
  }
 },
 "nbformat": 4,
 "nbformat_minor": 2
}
